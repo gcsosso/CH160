{
 "cells": [
  {
   "cell_type": "markdown",
   "metadata": {},
   "source": [
    "# CH160: Introduction to Python III - Loops & conditionals\n",
    "\n",
    "<img src=\"./STUFF/looper1.png\" width=\"600\">\n"
   ]
  },
  {
   "cell_type": "markdown",
   "metadata": {},
   "source": [
    "# 0 - Required packages\n",
    "As with all Python programming, the first step is load any optional modules we will need using the ``import`` command. For this workshop we will use both the ``matplotlib.pyplot`` module, and the ```random``` module. To save having to type out ```matplotlib.pyplot``` everytime we use it, we will give this module the alias ``plt``:"
   ]
  },
  {
   "cell_type": "code",
   "execution_count": 1,
   "metadata": {},
   "outputs": [],
   "source": [
    "import random\n",
    "import matplotlib.pyplot as plt"
   ]
  },
  {
   "cell_type": "markdown",
   "metadata": {},
   "source": [
    "# 1 - Introduction\n",
    "In the first two workshops of this course, we have met many of the data types (*i.e.*, strings, integers, floating point numbers, *etc.*) and data structures (lists, tuples, arrays, *etc.*) in Python, and have learned how we can create, name (*i.e.* assign variables to them), and manipulate them. \n",
    "\n",
    "### My boredom threshold is stupidly low...\n",
    "Up to now, all of the code we have seen has relied upon us executing commands by hand, one at a time. For example, if we wanted to print something to the screen, we learned that we could write and execute code similar to the following:"
   ]
  },
  {
   "cell_type": "code",
   "execution_count": 2,
   "metadata": {},
   "outputs": [
    {
     "name": "stdout",
     "output_type": "stream",
     "text": [
      "Hello, world!\n"
     ]
    }
   ],
   "source": [
    "#PRINT A SIMPLE MESSAGE TO SCREEN ONCE\n",
    "\n",
    "print(\"Hello, world!\")"
   ]
  },
  {
   "cell_type": "markdown",
   "metadata": {},
   "source": [
    "Now lets suppose that we wanted to print the same message to screen multiple times. The only way we have learned how to do this is to include several identical print statements in our code. This will work, but rapidly becomes tedious as the number of print statements needed increases!"
   ]
  },
  {
   "cell_type": "code",
   "execution_count": 3,
   "metadata": {},
   "outputs": [
    {
     "name": "stdout",
     "output_type": "stream",
     "text": [
      "Hello, world!\n",
      "Hello, world!\n",
      "Hello, world!\n",
      "Hello, world!\n",
      "Hello, world!\n"
     ]
    }
   ],
   "source": [
    "#PRINT A SIMPLE MESSAGE TO SCREEN MULTIPLE TIMES - THE TEDIOUS WAY!\n",
    "\n",
    "print(\"Hello, world!\")\n",
    "print(\"Hello, world!\")\n",
    "print(\"Hello, world!\")     # getting bored now...\n",
    "print(\"Hello, world!\") \n",
    "print(\"Hello, world!\")     # so sleepy...\n"
   ]
  },
  {
   "cell_type": "markdown",
   "metadata": {},
   "source": [
    "Alternatively we could imagine a situation where we wanted to repetatively perform a series of calculations with small, but important, changes between them. If the total number of calculations was small, we could code this by hand for each one; however, as the number of required calculations increases this approach becomes infeasible, and it becomes more likely that we will make a mistake somewhere. \n",
    "\n",
    "There has to be a better way..."
   ]
  },
  {
   "cell_type": "markdown",
   "metadata": {},
   "source": [
    "### Computers have no imagination!\n",
    "This is a good thing - we are unlikely to have to bow down to our robot overlords anytime soon...\n",
    "\n",
    "<p>\n",
    "    <img src=\"./STUFF/RobotOverlord.jpeg\" width=\"600\" alt>\n",
    "    <em>Evil robot (look at its evil little eyes!) forcing clearly terrified woman to obey</em>\n",
    "</p>\n",
    "\n",
    "It also means that computers, unlike us, don't get bored or tired or complain when we ask them to perform the same task repeatedly - thus we can use computers to perform the tasks we would rather avoid. \n",
    "\n",
    "In order to automate these tasks however, we need an efficient way of telling the computer to perform a task repeatedly - rather than us typing ```print(\"Hello, world!\")``` 1000 times in a code cell, we want to type it once and then tell the computer to run the print command 1000 times instead. This is where *loops* are useful."
   ]
  },
  {
   "cell_type": "markdown",
   "metadata": {},
   "source": [
    "## 1.1 - Types of loop\n",
    "In programming, a *loop* is a piece of code - the *loop statement* - which is run repeatedly and continuously until certain *exit conditions* are met. Each execution of the same piece of code is known as an *iteration*. \n",
    "\n",
    "<p>\n",
    "    <img src=\"./STUFF/drinking_fountains.png\" width=\"500\" alt>\n",
    "    <em>https://xkcd.com/986/</em>\n",
    "</p>\n",
    "\n",
    "Python has two types of loop, ```for``` and ```while```, and the main difference between them is that a ```for``` loop specifies the total number of iterations of the code in advance (a *definite* iteration), but a ```while``` loop runs a code block indefinitely until some condition is met (an *indefinite* iteration). The ```for``` loop is used far more often in scientific computing and shall be the focus of this workshop."
   ]
  },
  {
   "cell_type": "markdown",
   "metadata": {},
   "source": [
    "# 2 - \"for\" loops (definite iteration)\n",
    "We will begin this section by writing out the general form of a ```for``` loop:\n",
    "\n",
    "```python\n",
    "for <var> in <iterable>:\n",
    "    <body>\n",
    "```\n",
    "\n",
    "Where ```<iterable>``` is a collection of objects stored in *e.g.* a list or array, and ```<body>``` is the series of python commands you want to perform on each of the items in ```<iterable>```. The *loop variable*,  ```<var>```, is a variable which takes on the value of each of the items in the iterable in turn. An example can be found below:"
   ]
  },
  {
   "cell_type": "code",
   "execution_count": 4,
   "metadata": {},
   "outputs": [
    {
     "name": "stdout",
     "output_type": "stream",
     "text": [
      "Rita\n",
      "Sue\n",
      "Bob\n"
     ]
    }
   ],
   "source": [
    "#OUR FIRST FOR LOOP\n",
    "\n",
    "# First define our iterable - in this case it is a list of names\n",
    "list_of_names=[\"Rita\", \"Sue\", \"Bob\"]\n",
    "\n",
    "# Write a for loop that prints out each of the names in turn:\n",
    "# Our loop variable is called 'name', and we are running the print() command at every iteration of the loop\n",
    "# to print its value to screen\n",
    "for name in list_of_names:\n",
    "    print(name)"
   ]
  },
  {
   "cell_type": "markdown",
   "metadata": {},
   "source": [
    "From the above you can hopefully see how the ```for``` loop operates:\n",
    "- The value of ```name``` is initially set to the first item in the list ```list_of_names``` (\"Rita\" in this case), before executing all the commands in the body of the loop (this example uses a single command, ```print(name)```, but more could be added). \n",
    "- After each iteration of the loop, the value of ```name``` changes to the next item in the list before executing the body of the loop again. \n",
    "- When we run out of items in ```list_of_names```, we exit the loop. \n",
    "\n",
    "This process can be represented by the following flow chart:\n",
    "\n",
    "<img src=\"./STUFF/ForFlowchart.png\" width=\"250\">"
   ]
  },
  {
   "cell_type": "markdown",
   "metadata": {},
   "source": [
    "### Indentation matters!\n",
    "There are two important features of the loop code which need to be included for it to work correctly:\n",
    "- The first line of a ```for``` statement ends with a colon (:)\n",
    "- The body of the loop is indented (*i.e.*, it lies to the right of the rest of the code)\n",
    "\n",
    "This last point is very important! Failure to indent code correctly is the cause of numerous Python code errors. All lines of code in the loop body must have the same level of indentation - thankfully Jupyter notebooks will automatically indent the code in the body of a for loop (try it and see). Examples of how indentation can change the operation of code - including breaking it entirely - are given below:"
   ]
  },
  {
   "cell_type": "code",
   "execution_count": 5,
   "metadata": {},
   "outputs": [
    {
     "name": "stdout",
     "output_type": "stream",
     "text": [
      "We are in the loop\n",
      "The item is Rita\n",
      "We are in the loop\n",
      "The item is Sue\n",
      "We are in the loop\n",
      "The item is Bob\n"
     ]
    }
   ],
   "source": [
    "#INDENTATION MATTERS 1: ALL STATEMENTS IN THE BODY OF A LOOP MUST HAVE THE SAME INDENTATION\n",
    "\n",
    "# If the body of a loop contains multiple statements, they must each be indentated by the same amount\n",
    "for name in list_of_names:\n",
    "    print(\"We are in the loop\")\n",
    "    print(\"The item is\", name)    # this line prints a string and the current value of 'name' "
   ]
  },
  {
   "cell_type": "code",
   "execution_count": 6,
   "metadata": {},
   "outputs": [
    {
     "name": "stdout",
     "output_type": "stream",
     "text": [
      "We are in the loop\n",
      "The item is Rita\n",
      "We are in the loop\n",
      "The item is Sue\n",
      "We are in the loop\n",
      "The item is Bob\n",
      "\n",
      "Now we have exited the loop\n"
     ]
    }
   ],
   "source": [
    "#INDENTATION MATTERS 2: WE EXIT A LOOP BY REVERTING BACK TO THE ORIGINAL INDENTATION\n",
    "\n",
    "# Write our loop as before\n",
    "for name in list_of_names:\n",
    "    print(\"We are in the loop\")\n",
    "    print(\"The item is\", name)\n",
    "\n",
    "# Reverting back to our original indentation lets Python know that we have finished\n",
    "# with the body of the loop. All code from this point on will only run once the \n",
    "# loop has finished\n",
    "print(\"\\nNow we have exited the loop\") # '\\n' inserts a carriage return - a new line - into the string"
   ]
  },
  {
   "cell_type": "code",
   "execution_count": 7,
   "metadata": {},
   "outputs": [
    {
     "ename": "IndentationError",
     "evalue": "unexpected indent (<ipython-input-7-e40b84bfcf98>, line 6)",
     "output_type": "error",
     "traceback": [
      "\u001b[0;36m  File \u001b[0;32m\"<ipython-input-7-e40b84bfcf98>\"\u001b[0;36m, line \u001b[0;32m6\u001b[0m\n\u001b[0;31m    print(\"The item is\", name)    # Note the extra space added to the beginning of this line\u001b[0m\n\u001b[0m    ^\u001b[0m\n\u001b[0;31mIndentationError\u001b[0m\u001b[0;31m:\u001b[0m unexpected indent\n"
     ]
    }
   ],
   "source": [
    "#INDENTATION MATTERS 3: INCONSISTENT INDENTATION WILL LEAD TO 'INDENTATION ERRORS' AND TEARS BEFORE BEDTIME!\n",
    "\n",
    "# Write the two print statements in the loop body with different indentation\n",
    "for name in list_of_names:\n",
    "    print(\"We are in the loop\")\n",
    "     print(\"The item is\", name)    # Note the extra space added to the beginning of this line"
   ]
  },
  {
   "cell_type": "markdown",
   "metadata": {},
   "source": [
    "<div class=\"alert alert-block alert-info\">\n",
    "    \n",
    "### Task 1:\n",
    "Write a ```for``` loop that prints \"Hello, World!\" to screen five times"
   ]
  },
  {
   "cell_type": "markdown",
   "metadata": {},
   "source": [
    "## 2.1 - The range function\n",
    "In the examples above we have seen how a ```for``` loop iterates over a list of objects, with the length of this list defining how many times code in the loop body runs. Oftentimes we want to define a numeric range for our loop to iterate over. For example, suppose we wanted to iterate through the values 0 through 4, we could create a list containing all of these numbers, and then use it in a ```for``` loop as follows:"
   ]
  },
  {
   "cell_type": "code",
   "execution_count": 9,
   "metadata": {},
   "outputs": [
    {
     "name": "stdout",
     "output_type": "stream",
     "text": [
      "0\n",
      "1\n",
      "2\n",
      "3\n",
      "4\n"
     ]
    }
   ],
   "source": [
    "#NUMERIC RANGE LOOP\n",
    "\n",
    "# Create a list containing the integers 0-4 inclusive\n",
    "integer_list=[0, 1, 2, 3, 4]\n",
    "\n",
    "# Loop through the items in 'integer_list', printing each number to screen as we go\n",
    "# When using numeric range loops like this it is customary to call the loop variable 'i', but you are\n",
    "# free to name it whatever you want\n",
    "for i in integer_list:\n",
    "    print(i)"
   ]
  },
  {
   "cell_type": "markdown",
   "metadata": {},
   "source": [
    "As long as we are dealing with a few numbers, this method is absolutely fine. As mentioned in the introduction however, this is horribly tedious if we want to loop over a larger range of numbers. Thankfully Python has a built in command that will automatically generate an iterable sequence of integers, ```range()``` (this command is analogous to the NumPy ```arange()``` function covered in workshop 2). \n",
    "\n",
    "In a loop, we can use ```range()``` instead of a list of objects. The simplest use of range is where we supply it with a single integer value as an argument (recall that *argument* is the name we give to any item we put in the parentheses of a Python command). In this case, the ```range(stop)``` command will generate an iterable starting with 0 and containing all of the integers up to, but not including, ```stop```. It is important to note that the ```stop``` value must be an integer."
   ]
  },
  {
   "cell_type": "code",
   "execution_count": 10,
   "metadata": {},
   "outputs": [
    {
     "name": "stdout",
     "output_type": "stream",
     "text": [
      "0\n",
      "1\n",
      "2\n",
      "3\n",
      "4\n"
     ]
    }
   ],
   "source": [
    "#NUMERIC RANGE LOOP USING THE RANGE() COMMAND\n",
    "\n",
    "# range(5) will generate an iterable containing the numbers 0 through 4\n",
    "for i in range(5):\n",
    "    print(i)"
   ]
  },
  {
   "cell_type": "markdown",
   "metadata": {},
   "source": [
    "This is a really useful command as it provides us with a way to specify how many times we want a loop to run without making a list of the required length beforehand. For example, in task 1 you were asked to print the message 'Hello, World!' five times. One possible solution is to create a list containing five copies of this message, and then use a loop to iterate through this list and print each element in turn. However, this is barely an improvement on code containing five ```print(\"Hello, World!)``` statements, and defeats our stated goal in learning all about loops (*i.e.*, they remove much of the tedious repetition from tasks). We could instead achieve the same result much more succinctly using the ```range()``` command:"
   ]
  },
  {
   "cell_type": "code",
   "execution_count": 11,
   "metadata": {},
   "outputs": [
    {
     "name": "stdout",
     "output_type": "stream",
     "text": [
      "Hello, World!\n",
      "Hello, World!\n",
      "Hello, World!\n",
      "Hello, World!\n",
      "Hello, World!\n"
     ]
    }
   ],
   "source": [
    "#USING RANGE() TO SPECIFY HOW MANY ITERATIONS WE WANT\n",
    "\n",
    "# print 'Hello, World!' five times \n",
    "for i in range(5):\n",
    "    print(\"Hello, World!\")"
   ]
  },
  {
   "cell_type": "markdown",
   "metadata": {},
   "source": [
    "### 2.1.1 - Tweaking the range function\n",
    "The ```range()``` function can be supplied with up to two more arguments, ```start``` and ```step```, which allow us to change the starting integer and the spacing between values, respectively. The order the arguments should be specified in the function is ```range(start, stop, step)```. Again, all three arguments must be integers."
   ]
  },
  {
   "cell_type": "code",
   "execution_count": 12,
   "metadata": {},
   "outputs": [
    {
     "name": "stdout",
     "output_type": "stream",
     "text": [
      "4\n",
      "5\n",
      "6\n",
      "7\n",
      "8\n",
      "9\n"
     ]
    }
   ],
   "source": [
    "#OPTIONAL ARGUMENTS IN THE RANGE() COMMAND (1 of 2): SPECIFYING START VALUE\n",
    "\n",
    "#Generate an iterable containing the integers 4 though 9\n",
    "for i in range(4, 10): #remember the 'stop' value is not included\n",
    "    print(i)"
   ]
  },
  {
   "cell_type": "code",
   "execution_count": 13,
   "metadata": {},
   "outputs": [
    {
     "name": "stdout",
     "output_type": "stream",
     "text": [
      "13\n",
      "15\n",
      "17\n",
      "19\n"
     ]
    }
   ],
   "source": [
    "#OPTIONAL ARGUMENTS IN THE RANGE() COMMAND (2 of 2): SPECIFYING START AND STEP VALUES\n",
    "\n",
    "#Generate an iterable containing the integers 13 though 19, spaced by 2\n",
    "for i in range(13, 20, 2): #remember the 'stop' value is not included\n",
    "    print(i)"
   ]
  },
  {
   "cell_type": "markdown",
   "metadata": {},
   "source": [
    "<div class=\"alert alert-block alert-info\">\n",
    "    \n",
    "### Task 2:\n",
    "Using a ```for``` loop, and the ```range()``` function, print all the odd numbers between 1 and 25 inclusive (*i.e.*, 25 should be printed out)."
   ]
  },
  {
   "cell_type": "markdown",
   "metadata": {},
   "source": [
    "## 2.2 - Some uses of loops\n",
    "In this section we will briefly look at a couple of the potential uses for loops.\n",
    "\n",
    "### 2.2.1 - Running totals\n",
    "A common use of ```for``` loops is the calculation of running totals. For instance, suppose you would like to calculate the sum of all odd numbers between 1 and 100 (inclusive). If you were to do this by hand you would start by adding the first two odd numbers together:\n",
    "<br>\n",
    "<br>\n",
    "<center> 1 + 3 = 4 </center>\n",
    "    \n",
    "You would then add the next number, 5, to the total:\n",
    "<br>\n",
    "<br>\n",
    "<center> 4 + 5 = 9 </center>\n",
    "\n",
    "Then 7 is added to this total, and so on until you got to 100:\n",
    "<br>\n",
    "<br>\n",
    "<center> 9 + 7 = 16 </center>\n",
    "<center> 16 + 9 = 25 </center>\n",
    "\n",
    "We are doing repeated additions, keeping track of the running total, until we reach the last number in the sum.\n",
    "\n",
    "We can use a ```for``` loop to do exactly the same thing - adding the numbers one at a time to a running total. To keep track of the running sum we use a variable known as an *accumulator* (for the purposes of this example we shall call this variable ```running_total```, but any name will do). Initially we set the value ```running_total = 0``` because no numbers have been added to it yet. Next we update the value of the accumulator by adding the first number, ```running_total + 1 = 1```. Then we add the next number, 3, and update the accumulator accordingly - ```running_total + 3 = 4```. We repeat this process until we have added the final number to the accumulator. \n",
    "\n",
    "The code cell below illustrates how this could be done:"
   ]
  },
  {
   "cell_type": "code",
   "execution_count": 15,
   "metadata": {},
   "outputs": [
    {
     "name": "stdout",
     "output_type": "stream",
     "text": [
      "2500\n"
     ]
    }
   ],
   "source": [
    "#USING A FOR LOOP TO CALCULATE A RUNNING TOTAL\n",
    "\n",
    "# Set the inital value of our accumulator, running_total, to 0 - needs to be done before initialising the loop\n",
    "running_total=0\n",
    "\n",
    "# Use 'range(1,101,2)' to generate an iterable containing all the odd numbers between 0 and 100.\n",
    "# The for loop then adds each of these numbers in turn to our accumulator\n",
    "for i in range(1,101,2):\n",
    "    running_total+=i             #'running_total+=i' is shorthand notation for 'running_total=running_total+i'\n",
    "\n",
    "# print the value of the accumulator to screen after the for loop has finished adding all the values\n",
    "print(running_total)"
   ]
  },
  {
   "cell_type": "markdown",
   "metadata": {},
   "source": [
    "<div class=\"alert alert-block alert-info\">\n",
    "    \n",
    "### Task 3:\n",
    "In this task we are going to use a ```for``` loop to calculate the value of the following sum:\n",
    "\n",
    "$$\\begin{align*}\\sum_{i=1}^{25}\\frac{1}{2^{i}}&=\\frac{1}{2^{1}}+\\frac{1}{2^{2}}+\\frac{1}{2^{3}}+\\ldots+\\frac{1}{2^{25}}\\\\[6pt]\n",
    "        &=\\frac{1}{2}+\\frac{1}{4}+\\frac{1}{8}+\\ldots+\\frac{1}{33554432}\\\\[6pt]\n",
    "        &=?\n",
    "        \\end{align*}$$\n",
    "\n",
    "Use a ```for``` loop and an accumulator to evaluate this sum (**hint:** your answer should be very close to 1). "
   ]
  },
  {
   "cell_type": "markdown",
   "metadata": {},
   "source": [
    "### 2.2.2 - Building lists\n",
    "Another common use of ```for``` loops is to build lists. The method used is very similar to that employed in section 2.2.1, where we used an accumulator to keep track of a running sum, the key difference being that we store *all* the values in a list (useful if we want to plot the values later on), rather than updating a variable to store the final value only. \n",
    "\n",
    "As an example, lets use a loop to create a list of the squares of the numbers 1-15. The first thing we need to do is create an empty list for us to place our values (analogous to setting an initial value for an accumulator variable). In each iteration of the loop we add the calculated value to the end of the list:"
   ]
  },
  {
   "cell_type": "code",
   "execution_count": 17,
   "metadata": {},
   "outputs": [
    {
     "name": "stdout",
     "output_type": "stream",
     "text": [
      "[1, 4, 9, 16, 25, 36, 49, 64, 81, 100, 121, 144, 169, 196, 225]\n"
     ]
    }
   ],
   "source": [
    "#BUILDING LISTS EXAMPLE\n",
    "\n",
    "#Create an empty list called 'squares' for storage of our values\n",
    "squares=[]\n",
    "\n",
    "#We want to store the squares of the numbers 1-15 inclusive, so use the 'range(1,16)' command.\n",
    "#To add values to the end of a list we use the 'list_name.append(x)' command\n",
    "\n",
    "for i in range(1,16):\n",
    "    squares.append(i**2)\n",
    "\n",
    "#print the list to ensure it has done what we want\n",
    "print(squares)"
   ]
  },
  {
   "cell_type": "markdown",
   "metadata": {},
   "source": [
    "<div class=\"alert alert-block alert-info\">\n",
    "    \n",
    "### Task 4: \n",
    "Using a ```for``` loop, create a list containing the running sum of all the odd numbers between 1 and 100, inclusive. The first three numbers in your list should be 1, 4, and 9, and the final two numbers should be 2401 and 2500."
   ]
  },
  {
   "cell_type": "markdown",
   "metadata": {},
   "source": [
    "# 3 - Conditional statements\n",
    "Sometimes we want our Python code to do different things depending on whether certain conditions (or sets of conditions) are met. The simplest way to do this is to make use of an ```if``` statement which *controls* what code does based upon the evaluation of a *conditional statement*."
   ]
  },
  {
   "cell_type": "markdown",
   "metadata": {},
   "source": [
    "## 3.1 - The 'if' statement\n",
    "In its simplest form, an ```if``` statement is written in Python as:\n",
    "```python\n",
    "if <condition>:\n",
    "    <body>\n",
    "```\n",
    "\n",
    "\n",
    "Where ```<condition>``` is a statement which is evaluated by Python as being either ```True``` or ```False```, and ```<body>``` is a series of Python commands which is only executed if ```<condition>``` returns ```True```. The ```<condition>``` statement contains:\n",
    "- A variable which is initialised before the conditional statement.\n",
    "- (usually, but not always) a [relational operator](https://en.wikipedia.org/wiki/Relational_operator) which checks the value of this variable relative to another, and returns ```True``` or ```False```. The six relational operators in Python are:\n",
    "    - ```<``` - less than. ```a<b``` returns ```True``` if the value of ```a``` is less than the value of ```b``` and ```False``` otherwise (check this by typing 5>6 in a code cell and running it to see what is returned). \n",
    "    - ```<=``` - less than or equal to.\n",
    "    - ```>``` - greater than.\n",
    "    - ```>=``` - greater than or equal to.\n",
    "    - ```==``` - is equal to (**note** this is not the same thing as typing ```=```, ```a=b``` will set the value of 'a' equal to 'b', rather than checking if they are equal).\n",
    "    - ```!=``` - is not equal to.\n",
    "    \n",
    "A simple ```if``` statement is demonstrated below - change the value of the variable ```a``` to see how the outcome of the code cell can be controlled:"
   ]
  },
  {
   "cell_type": "code",
   "execution_count": 19,
   "metadata": {},
   "outputs": [
    {
     "name": "stdout",
     "output_type": "stream",
     "text": [
      "Conditional finished\n"
     ]
    }
   ],
   "source": [
    "# CONDITIONAL STATEMENTS (1 of 2) - THE IF STATEMENT\n",
    "\n",
    "# Set value of variable 'a'\n",
    "a = 150\n",
    "\n",
    "# Use an if statement to check if the value of a is greater than 200. \n",
    "# If True, print a message. If False do nothing.\n",
    "if a > 200:\n",
    "    print(\"'a' is greater than 200\")\n",
    "    \n",
    "# print a message confirming that the conditional statement has been evaluated\n",
    "print(\"Conditional finished\")"
   ]
  },
  {
   "cell_type": "markdown",
   "metadata": {},
   "source": [
    "In the above code cell we\n",
    "- Set the value of a variable to any number we like.\n",
    "- Use an ```if``` conditional statement to check if the value of ```a``` is greater than 200.\n",
    "    - If the conditional statement returns ```True``` (*i.e.*, ```a``` is greater than 200) then a message is printed to screen.\n",
    "    - If the conditional statement returns ```False``` no message is printed.\n",
    "- After the ```if``` statment has been evaluated, the remainder of the code runs.\n",
    "\n",
    "The flow chart for this code cell is:\n",
    "\n",
    "<img src=\"./STUFF/IfStatement.png\" width=\"250\">"
   ]
  },
  {
   "cell_type": "markdown",
   "metadata": {},
   "source": [
    "### 3.1.1 - Combining conditional statements - 'and' / 'or' operators\n",
    "We can, if we want, use the logical ```and```and ```or``` operators to check two or more conditions simultaneously.\n",
    "- ```<condition 1> and <condition 2>``` - both conditions must be met for the statement to return ```True```\n",
    "- ```<condition 1> or <condition 2>``` - either (or both) can be met for the statement to return ```True```\n",
    "\n",
    "An example of how we can use the ```and``` operator in an ```if``` statement is shown below:"
   ]
  },
  {
   "cell_type": "code",
   "execution_count": 20,
   "metadata": {},
   "outputs": [
    {
     "name": "stdout",
     "output_type": "stream",
     "text": [
      "'a' is between 201 and 249 (inclusive) but isn't 213\n",
      "Conditional finished\n"
     ]
    }
   ],
   "source": [
    "# CONDITIONAL STATEMENTS (2 of 2) - COMBINING SEVERAL CONDITIONS\n",
    "\n",
    "# Set value of variable 'a'\n",
    "a = 214\n",
    "\n",
    "# Use an if statement to check if the value of a is both greater than 200 AND less than 250 but not equal to 213. \n",
    "# If all three conditions are True, print a message. If any are False do nothing.\n",
    "if a > 200 and a < 250 and a!=213:\n",
    "    print(\"'a' is between 201 and 249 (inclusive) but isn't 213\")\n",
    "    \n",
    "# print a message confirming that the conditional statement has been evaluated\n",
    "print(\"Conditional finished\")"
   ]
  },
  {
   "cell_type": "markdown",
   "metadata": {},
   "source": [
    "## 3.2 - Extending 'if' statements - the 'elif' and 'else' clauses\n",
    "The above section has shown us how we can use a single ```if``` statement to control what code does. Oftentimes however, we want to evaluate a statement and take one path if it is ```True```, but specify another path if it is ```False```. In such cases, we use the ```else``` clause:\n",
    "\n",
    "```python\n",
    "if <condition>:\n",
    "    <body 1>\n",
    "else:\n",
    "    <body 2>\n",
    "```\n",
    "\n",
    "If ```<condition>``` is ```True``` then the code in ```<body 1>``` is run, if it is ```False``` then ```<body 2>``` runs instead.\n",
    "\n",
    "In section 3.1 an ```if``` statement was used to print a message to screen if a number was greater than 200, but the code did nothing if the number was less than or equal to 200. Using an additional ```else``` statement allows us to modify our code to explicitly tell us if the number is less than or equal to 200:"
   ]
  },
  {
   "cell_type": "code",
   "execution_count": 21,
   "metadata": {},
   "outputs": [
    {
     "name": "stdout",
     "output_type": "stream",
     "text": [
      "'a' is less than or equal to 200\n",
      "Finished\n"
     ]
    }
   ],
   "source": [
    "# THE ELIF AND ELSE CLAUSES (1 OF 2) - TWO BRANCHES\n",
    "\n",
    "# Set value of variable 'a'\n",
    "a=150\n",
    "\n",
    "# Use if-else structure to print different messages depending upon if a is greater than 200 or not\n",
    "if a>200:\n",
    "    print(\"'a' is greater than 200\")\n",
    "else:\n",
    "    print(\"'a' is less than or equal to 200\")\n",
    "\n",
    "print(\"Finished\")"
   ]
  },
  {
   "cell_type": "markdown",
   "metadata": {},
   "source": [
    "<div class=\"alert alert-block alert-info\">\n",
    "    \n",
    "### Task 5:\n",
    "Use an if-else structure to write code that tells you if a randomly generated integer between 0-10 is even or odd (print a message to screen stating the value of the number, and which of these conditions is satisfied). \n",
    "\n",
    "**Useful command**:\n",
    "The modulus mathematical operator, ```%```, [calculates the remainder when two numbers are divided](https://www.freecodecamp.org/news/the-python-modulo-operator-what-does-the-symbol-mean-in-python-solved/). In this task we can make use of the fact that if a number, ```x``` is exactly divisible by ```y```, then the operation ```x % y``` will return 0"
   ]
  },
  {
   "cell_type": "markdown",
   "metadata": {},
   "source": [
    "If you want to include branching code for more than two alternatives, one or more ```elif``` (short for *else if*) clauses can be included:\n",
    "\n",
    "```python\n",
    "if <condition 1>:\n",
    "    <body 1>\n",
    "elif <condition 2>:\n",
    "    <body 2>   \n",
    "else:\n",
    "    <body 3>\n",
    "```\n",
    "\n",
    "An arbitrary number of ```elif``` statements can be specified, but only one ```else``` clause (which must be the last clause specified) can be included. \n",
    "\n",
    "Only one of the code blocks will be executed. Python evaluates each ```<condition>``` in turn, and the first one that returns ```True``` has its corresponding ```<body>``` code executed. If none of the conditional statements return ```True```, then the code associated with the ```else``` clause (if it is present) is run instead.\n",
    "\n",
    "The ```else``` clause is optional; however, if it is not included, and none of the conditional statements returns ```True```, then none of the code blocks will be executed.\n",
    "\n",
    "An example of how ```elif``` statements can be used is shown below."
   ]
  },
  {
   "cell_type": "code",
   "execution_count": 23,
   "metadata": {},
   "outputs": [
    {
     "name": "stdout",
     "output_type": "stream",
     "text": [
      "'a' is equal to 200\n"
     ]
    }
   ],
   "source": [
    "# THE ELIF AND ELSE CLAUSES (2 OF 2) - MULTIPLE BRANCHES\n",
    "\n",
    "# Set value of variable 'a'\n",
    "a=200\n",
    "\n",
    "# Use if-elif structure to print different messages depending upon if a>200, a<200, or a=200\n",
    "if a>200:\n",
    "    print(\"'a' is greater than 200\")\n",
    "elif a<200:\n",
    "    print(\"'a' is less than 200\")\n",
    "elif a==200:                          # an 'else' clause could be used here instead, since a has to be\n",
    "    print(\"'a' is equal to 200\")      # equal to 200 for the code to get this far!\n",
    "\n"
   ]
  },
  {
   "cell_type": "markdown",
   "metadata": {},
   "source": [
    "## 3.3 - Using conditional statements in loops\n",
    "All of the ```if```, ```else```, and ```elif``` statements can be used inside loops. For example, if we wanted to print the numbers 0-10 inclusive, but replace 5 with the string 'Five' and 8 with the string 'Eight', we could use an ```if-elif-else``` structure within a ```for``` loop as follows:"
   ]
  },
  {
   "cell_type": "code",
   "execution_count": 24,
   "metadata": {},
   "outputs": [
    {
     "name": "stdout",
     "output_type": "stream",
     "text": [
      "0\n",
      "1\n",
      "2\n",
      "3\n",
      "4\n",
      "Five\n",
      "6\n",
      "7\n",
      "Eight\n",
      "9\n",
      "10\n"
     ]
    }
   ],
   "source": [
    "# USING IF-ELIF-ELSE STRUCTURES IN LOOPS\n",
    "\n",
    "# Use for loop to iterate through the integer values 0-10. If the value is equal to 5 or 8, print a string\n",
    "# to screen, otherwise print the integer directly\n",
    "for i in range(11):\n",
    "    if i==5:            \n",
    "        print(\"Five\")\n",
    "    elif i==8:\n",
    "        print(\"Eight\")\n",
    "    else:                  \n",
    "        print(i)"
   ]
  },
  {
   "cell_type": "markdown",
   "metadata": {},
   "source": [
    "Again, care must be taken with indentation here. Both the loop *and* conditional structures require their associated code to be indented. This results in the ```print``` statements above being indented twice."
   ]
  },
  {
   "cell_type": "markdown",
   "metadata": {},
   "source": [
    "<div class=\"alert alert-block alert-info\">\n",
    "    \n",
    "### Task 6:\n",
    "Use a ```for``` loop and conditional statements to print only those numbers between 1 and 150 (inclusive) which are divisible by 3 **and** 5 simultaneously (*e.g.*, 15), and those which are divisible by 7 **and** 2 (*e.g.*, 28). Your code should print 20 numbers."
   ]
  },
  {
   "cell_type": "markdown",
   "metadata": {},
   "source": [
    "<div class=\"alert alert-block alert-info\">\n",
    "    \n",
    "### Task 7:\n",
    "In this final task we are going to use loops and conditional statements to estimate the value of Pi using the so called *Monte-Carlo* method.\n",
    "<p>\n",
    "    <img src=\"./STUFF/casino.png\" width=\"600\">\n",
    "    <em>The method really is named after the casino town</em>\n",
    "</p>\n",
    "\n",
    "Imagine we have a circle of radius $r=1$ (with area $\\pi r^2=\\pi$) enclosed inside a $2\\times2$ square. If we now calculate the ratio of their areas we see that:\n",
    "    \n",
    "$$\\frac{\\textrm{Area of circle}}{\\textrm{Area of square}}=\\frac{\\pi}{4}$$\n",
    "\n",
    "Imagine that your circle is a dartboard. What we want to do is to throw darts at it, and count the fraction of these darts that land inside the circle. In order to simulate where the darts land, we are going to use a random number generator to generate their final $x$ and $y$ coordinates. \n",
    "    \n",
    "The darts can land anywhere within the square (*i.e.*, the $x$ and $y$ values will lie between $-1$ and $1$). For the darts to hit the target, they must land inside the circle defined by the equation $x^2+y^2=1$.\n",
    "    \n",
    "By keeping track of the total number of darts thrown ($N_{thrown}$), and the number of darts that hit the target ($N_{hit}$), an estimate for the value of pi is then given by:\n",
    "    \n",
    "$$\\pi\\approx4\\frac{N_{hit}}{N_{thrown}}$$\n",
    "    \n",
    "Write a loop that simulates throwing 5000 darts at the target. Keep track of how many darts lie within the circle, and use this information to estimate $\\pi$. Plot the final positions of all the darts using a scatter plot where those darts that hit the target are plotted in a different colour from those darts that missed.\n",
    "    \n",
    "**Useful command**:\n",
    "\n",
    "```random.uniform(-1,1)``` - generates a uniformally distributed random number lying between -1 and 1"
   ]
  }
 ],
 "metadata": {
  "kernelspec": {
   "display_name": "Python 3",
   "language": "python",
   "name": "python3"
  },
  "language_info": {
   "codemirror_mode": {
    "name": "ipython",
    "version": 3
   },
   "file_extension": ".py",
   "mimetype": "text/x-python",
   "name": "python",
   "nbconvert_exporter": "python",
   "pygments_lexer": "ipython3",
   "version": "3.6.13"
  }
 },
 "nbformat": 4,
 "nbformat_minor": 2
}
