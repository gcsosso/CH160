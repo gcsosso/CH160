{
 "cells": [
  {
   "cell_type": "markdown",
   "metadata": {},
   "source": [
    "<div class=\"alert alert-block alert-info\">\n",
    "    \n",
    "These blue boxes contain instructions for you to follow, or stuff for you to do\n",
    "<h2>How to access this Jupyter notebook</h2>\n",
    "\n",
    "* <b>Step 1</b>: Open a web browser,  and go to [this page](https://jupyter.warwick.ac.uk/module/CH160), \n",
    "* <b>Step 2</b>: Enter your SCRTP username and password and press the \"Start Server\" button.<br>\n",
    "* <b>Step 3</b>: Wait (it could take a few minutes) until the blue box says \"Jupyter notebook server running!\". At that point, click on the weblink below said message.<br>\n",
    "* <b>Step 4</b>: Select the Jupyter Notebook you want to work on. <i>Remember to make a copy of the orginal notebook</i> (which is read only). To do so, in the toolbar on top of the notebook, select File and then Make a Copy <br>\n",
    "* <b>Step 5</b>: You're all set! <br>\n",
    "* <b>Step 6</b>: <font color=\"red\">When you are done, remember to click the \"Stop Server\" button in the launcher web browser tab.</font> Please do, it's really quite important. <br>\n",
    "<b> Remember: </b> You can access your copy of the Notebook at any time from any device off and on campus by going through the same steps on e.g. your laptop - all the changes you have made will be saved and synced! <br>\n",
    "\n",
    "<div/>"
   ]
  },
  {
   "cell_type": "markdown",
   "metadata": {},
   "source": [
    "# CH160: Introduction to Python V - Plotting Data using Matplotlib\n",
    "\n",
    "<p>\n",
    "    <img src=\"./STUFF/got.jpg\" width=\"400\" alt>\n",
    "    <em>Student beholding the majesty of Matplotlib for the first time</em>\n",
    "</p>"
   ]
  },
  {
   "cell_type": "markdown",
   "metadata": {},
   "source": [
    "# 0 - Required packages\n",
    "As with all Python programming, the first step is load any optional modules we will need using the ``import`` command. For this workshop we will use both the ``matplotlib.pyplot`` module, and NumPy . To save having to type out their full names everytime we use them, we will give these modules the aliases ``plt`` (Matplotlib) and ``np`` (NumPy):"
   ]
  },
  {
   "cell_type": "code",
   "execution_count": null,
   "metadata": {},
   "outputs": [],
   "source": [
    "import matplotlib.pyplot as plt\n",
    "import numpy as np"
   ]
  },
  {
   "cell_type": "markdown",
   "metadata": {},
   "source": [
    "# 1 - Introduction\n",
    "Many Python packages can be used for plotting data (including, but not limited to, Bokeh, Seaborn, ggplot, Plotly, $etc.$), but [Matplotlib](https://matplotlib.org) is probably the most popular. It is a hugely versatile package, allowing users to produce high-quality figures suitable for publication in journals, books, and theses. This final CH160:Python workshop will introduce some of the functionality of the Matplotlib module, and builds upon your existing knowledge of the NumPy module."
   ]
  },
  {
   "cell_type": "markdown",
   "metadata": {},
   "source": [
    "# 2 - Basic Plotting\n",
    "## 2.1 - Line and scatter plots\n",
    "\n",
    "Simple line and scatter plots of data can be created using a single line of code in Matplotlib (although a second line, ``plt.show()``, is needed in order to actually see the plot).\n",
    "<ul>\n",
    "    <li> <code>plt.plot('x','y')</code> - line plot of 'x' <i>vs.</i> 'y'  </li>\n",
    "    <li> <code>plt.scatter('x','y')</code> - scatter plot of points defined by the coordinates ('x','y') </li>\n",
    "</ul>\n",
    "\n",
    "In all cases ``'x'`` and ``'y'`` are lists of numbers <i>of the same length</i> (alternatively we can use <i>arrays</i>, *tuples*, or even a combination of these). For example,\n",
    "\n",
    "### Line plot:"
   ]
  },
  {
   "cell_type": "code",
   "execution_count": null,
   "metadata": {},
   "outputs": [],
   "source": [
    "#LINE PLOT EXAMPLE - y=x^2\n",
    "\n",
    "# Create our data for plotting. In this example, both the x- and y-data (which \n",
    "# we have called x_line and y_line, respectively) are lists containing seven numbers.\n",
    "\n",
    "x_line=[0, 0.5, 1, 1.5, 2, 2.5, 3]\n",
    "y_line=[0, 0.25, 1, 2.25, 4, 6.25, 9] #each value in y_line is the square of the corresponding value in x_line\n",
    "\n",
    "#Plot the data with points connected by straight lines\n",
    "plt.plot(x_line,y_line)\n",
    "\n",
    "#Display the plot on screen\n",
    "plt.show()"
   ]
  },
  {
   "cell_type": "markdown",
   "metadata": {},
   "source": [
    "### Scatter plot:"
   ]
  },
  {
   "cell_type": "code",
   "execution_count": null,
   "metadata": {},
   "outputs": [],
   "source": [
    "#SCATTER PLOT EXAMPLE - pairs (x,y) of numbers \n",
    "\n",
    "#Create the data (called x_scatter and y_scatter) - lists containing 10 values each\n",
    "x_scatter=[0.65, 0.53, 0.92, 0.47, 0.49, 0.60, 0.54, 0.62, 0.32, 0.72]\n",
    "y_scatter=[0.35, 0.11, 0.56, 0.55, 0.86, 0.29, 0.53, 0.89, 0.10, 0.29]\n",
    "\n",
    "#Plot the data as a scatter plot of the (x,y) pairs\n",
    "plt.scatter(x_scatter,y_scatter)\n",
    "\n",
    "#Display the plot on screen\n",
    "plt.show()"
   ]
  },
  {
   "cell_type": "markdown",
   "metadata": {},
   "source": [
    "<div class=\"alert alert-block alert-info\">\n",
    "    \n",
    "### Task 1:\n",
    "Produce a line plot of $y=x^{3}$ for $x=-3,\\,-2,\\,-1,\\,0,\\,1,\\,2,\\,3$"
   ]
  },
  {
   "cell_type": "code",
   "execution_count": null,
   "metadata": {},
   "outputs": [],
   "source": [
    "#TASK 1 ANSWER:\n"
   ]
  },
  {
   "cell_type": "markdown",
   "metadata": {},
   "source": [
    "## 2.2 - Plotting multiple datasets\n",
    "\n",
    "If we want to include more than one line (or set of scatter points) in a plot, we simply call ``plt.plot(x,y)`` for each set of data. The different datasets will automatically be plotted using different colours. "
   ]
  },
  {
   "cell_type": "code",
   "execution_count": null,
   "metadata": {},
   "outputs": [],
   "source": [
    "#MULTIPLE LINE PLOT EXAMPLE - y=x^2 and y=(x^2)+2\n",
    "\n",
    "#Create our data for plotting. In this example, we have two sets of y-data (y_multi_1 and y_multi_2) both \n",
    "#of which share the same x-data (x_multi)\n",
    "x_multi=[0, 0.5, 1, 1.5, 2, 2.5, 3]\n",
    "\n",
    "y_multi_1=[0, 0.25, 1, 2.25, 4, 6.25, 9] #y=x^2\n",
    "y_multi_2=[2, 2.25, 3, 4.25, 6, 8.25, 11] #y=(x^2)+2\n",
    "\n",
    "#Plot the lines by calling plt.plot(x,y) twice, once for y=y_multi_1 and once for y=y_multi_2\n",
    "plt.plot(x_multi,y_multi_1)\n",
    "plt.plot(x_multi,y_multi_2)\n",
    "\n",
    "#Display the plot on screen\n",
    "plt.show()"
   ]
  },
  {
   "cell_type": "markdown",
   "metadata": {},
   "source": [
    "<div class=\"alert alert-block alert-info\">\n",
    "\n",
    "### Task 2:\n",
    "Repeat task 1 (plot $y=x^{3}$ for $x=-3,\\,-2,\\,-1,\\,0,\\,1,\\,2,\\,3$) but add a plot of $y=x^{2}$ (use the same $x$-values for both plots) onto the figure"
   ]
  },
  {
   "cell_type": "code",
   "execution_count": null,
   "metadata": {},
   "outputs": [],
   "source": [
    "#TASK 2 ANSWER:\n"
   ]
  },
  {
   "cell_type": "markdown",
   "metadata": {},
   "source": [
    "## 2.3 - Saving plots\n",
    "To save a copy of a plot, we include a single new command in our code:\n",
    "\n",
    "```plt.savefig('filename.extension')```\n",
    "\n",
    "This will save a copy of the plot with the name ```filename.extension``` in your current working directory. To view the file click on File > Open in the Jupyter menu bar and select it from the list of files. To download it to your local machine click on the button to the left of the file name and select download at the top of the screen.\n",
    "\n",
    "By changing the ```.extension``` text we can export the plot in several different file formats. The two most common formats probably are PDF (```.pdf```) and PNG (```.png```). PDF files are vector (line) based, and as such can be manually scaled without loss of quality (and can also be extensively edited in programs such as Adobe Illustrator or Affinity Designer), while PNG files are pixel based and cannot easily be edited or have their size changed without reducing image quality - to test this zoom in on pdf and png images and see what happens... \n",
    "\n",
    "**Important note:**\n",
    "\n",
    "If you want to both view a plot and save it, you must include the ```plt.savefig(...)``` command <i>before</i> the ```plt.show()``` command otherwise your exported file will be empty picture. Once the image is printed to screen it is cleared from memory."
   ]
  },
  {
   "cell_type": "markdown",
   "metadata": {},
   "source": [
    "<div class=\"alert alert-block alert-success\">\n",
    "\n",
    "### Summary of commands introduced in section 2\n",
    "\n",
    "``plt.plot(x,y)`` - line plot of x vs. y, can be used multiple times to build a single plot\n",
    "\n",
    "``plt.scatter(x,y)`` - scatter plot of (x,y) pairs, can be used multiple times to build a single plot\n",
    "\n",
    "``plt.show()`` - display the plot on screen\n",
    "\n",
    "``plt.savefig(\"filename.extension\")`` - save the plot\n"
   ]
  },
  {
   "cell_type": "markdown",
   "metadata": {},
   "source": [
    "# 3 - Lists or Arrays?\n",
    "At the begining of section 2.1 you were told that the data to be plotted using ``plt.plot`` can be in the form of either a list or an array. SInce both will work, and produce an identical output, does it matter which we use? \n",
    "\n",
    "As you learned in workshop 2, both are essentially an ordered collection of numbers (although lists can contain other object types). When it comes to plotting, arrays have two key advantages over lists:\n",
    "- It is far easier to manipulate an array mathematically than it is to manipulate a list. \n",
    "- The  ```arange()``` and ```linspace()``` commands in the NumPy module allow us to generate regularly-spaced arrays numbers automatically. Because the output of these commands is an array, we can easily use it as the independent variable when plotting mathematical functions - our plots of $y=x^{2}$ and $y=x^{3}$ (tasks 1 & 2) need never look so bad again!"
   ]
  },
  {
   "cell_type": "code",
   "execution_count": null,
   "metadata": {},
   "outputs": [],
   "source": [
    "#USING ARRAYS TO PLOT MATHEMATICAL FUNCTIONS - y=sin(x) & y=sin^2(x)\n",
    "\n",
    "# Use 'linspace()' to generate an array of 128 x-values evenly spaced between -2*pi and 2*pi inclusive\n",
    "x_values=np.linspace(-2*np.pi, 2*np.pi, 128)\n",
    "\n",
    "# Use the values in 'x_values' as the independent variable in the functions y=sin(x) and y=sin^2(x)\n",
    "sin_x=np.sin(x_values)             \n",
    "sin_square_x=np.sin(x_values)**2 \n",
    "\n",
    "#Plot the two functions\n",
    "plt.plot(x_values,sin_x)\n",
    "plt.plot(x_values,sin_square_x)\n",
    "\n",
    "#Display the plot on screen\n",
    "plt.show()"
   ]
  },
  {
   "cell_type": "markdown",
   "metadata": {},
   "source": [
    "<div class=\"alert alert-block alert-info\">\n",
    "\n",
    "### Task 3:\n",
    "The sinc function is defined as:\n",
    "    $$\\textrm{sinc}(x)=\\frac{\\sin(x)}{x}$$\n",
    "Plot this function over the range $-5\\pi\\leq x\\leq 5\\pi$ using 256 points.\n",
    "\n",
    "<b>Useful commands</b>:\n",
    "\n",
    "<code>np.sin(x)</code> - returns the sine of 'x'"
   ]
  },
  {
   "cell_type": "code",
   "execution_count": null,
   "metadata": {},
   "outputs": [],
   "source": [
    "#TASK 3 ANSWER:\n"
   ]
  },
  {
   "cell_type": "markdown",
   "metadata": {},
   "source": [
    "# 4 - Customising Your Plots\n",
    "\n",
    "The above sections have hopefully taught you how to create simple plots using the Matplotlib package in python. Such plots are extremely useful when you want to quickly analyse data sets or explore the behaviour of mathematical/scientific functions (I do this all the time). Unfortunately, if we want to produce a plot suitable for a report there are a few more steps we need to go through.\n",
    "\n",
    "## 4.1 - Axis labels\n",
    "Any plot you produce for a report/presentation must have its axes fully labelled (including units where appropriate). In Matplotlib, the commands you need to include to do this are ``plt.xlabel('x-axis label')`` and ``plt.ylabel('y-axis label')`` for the $x$- and $y$- axes, respectively."
   ]
  },
  {
   "cell_type": "code",
   "execution_count": null,
   "metadata": {},
   "outputs": [],
   "source": [
    "#AXES LABELS EXAMPLE - y=x*sin(x)\n",
    "\n",
    "#Create our data for plotting. In this example, we are plotting the function y=x*sin(x)\n",
    "#over the range x=-2 pi to x=2 pi\n",
    "x_data=np.linspace(-2*np.pi,2*np.pi,128)\n",
    "x_sinx=x_data*np.sin(x_data)\n",
    "\n",
    "#Plot the data with points connected by straight lines\n",
    "plt.plot(x_data,x_sinx)\n",
    "\n",
    "#Include axes labels \n",
    "plt.xlabel('x-axis title')\n",
    "plt.ylabel('y-axis title')\n",
    "\n",
    "#Display the plot on screen\n",
    "plt.show()"
   ]
  },
  {
   "cell_type": "markdown",
   "metadata": {},
   "source": [
    "## 4.2 - Plot legends\n",
    "\n",
    "If we include more than one trace on a plot, we should add a legend so the reader can tell the two datasets apart. This is a two-stage process in Matplotlib:\n",
    "<ol>\n",
    "  <li>Include an extra argument <code>label='plot label'</code> in each <code>plt.plot()</code> command</li>\n",
    "    \n",
    "  <li>Create the plot legend by running <code>plt.legend()</code></li>\n",
    "</ol>  \n"
   ]
  },
  {
   "cell_type": "code",
   "execution_count": null,
   "metadata": {},
   "outputs": [],
   "source": [
    "#PLOT LEGEND EXAMPLE - y=x*sin(x) & y=(x^2)*sin(x)\n",
    "\n",
    "#Create our data for plotting. In this example, we are plotting two functions \n",
    "#over the range x=-2 pi to x=2 pi, y=x*sin(x) and y=(x^2)*sin(x)\n",
    "x_data=np.linspace(-2*np.pi, 2*np.pi, 128)\n",
    "\n",
    "sinx=x_data*np.sin(x_data) #y=x*sin(x)\n",
    "x2_sinx=(x_data**2)*np.sin(x_data) #y=(x^2)*sin(x)\n",
    "\n",
    "#Plot the data with points connected by straight lines, make sure to \n",
    "#include the extra argument label='plot label' in the plt.plot() command\n",
    "plt.plot(x_data, sinx, label='x sin(x)')\n",
    "plt.plot(x_data, x2_sinx, label='x^2 sin(x)')\n",
    "\n",
    "#Include axes labels \n",
    "plt.xlabel('x-axis title')\n",
    "plt.ylabel('y-axis title')\n",
    "\n",
    "#Include plot legend\n",
    "plt.legend()\n",
    "\n",
    "#Display the plot on screen\n",
    "plt.show()"
   ]
  },
  {
   "cell_type": "markdown",
   "metadata": {},
   "source": [
    "<div class=\"alert alert-block alert-info\">\n",
    "\n",
    "### Task 4:\n",
    "Consider the following first-order chemical reaction: \n",
    "    $$[A]\\xrightarrow{k}[B]$$\n",
    "    \n",
    "If we assume that at time $t=0$, $[A]=[A]_{0}$ and $[B]=0$, then the time dependent concentrations of $A$ and $B$ are given by:\n",
    "     $$[A]=[A]_{0}e^{-kt}\\\\$$\n",
    "    $$[B]=[A]_{0}\\left(1-e^{-kt}\\right)$$\n",
    "    \n",
    "In this task you will prepare plots of the time-dependent populations of $A$ and $B$ over the range $t=0-10$ s (*i.e.* your plot commands should look something like ```plt.plot(t, A)```). \n",
    "\n",
    "- **Step 1:** Use ```linspace()``` or ```arange()``` to create an array of evenly spaced points between 0-10. This will be your time data, $t$. \n",
    "    - You need to decide for yourself how many datapoints you want in your plot - ultimately you should aim to generate smooth curves for the data\n",
    "- **Step 2:** Using the equations above, generate two further arrays representing the time-dependent concentrations of $A$ and $B$. The array generated in step 1 will serve as your independent variable, $t$. Use the following parameters:\n",
    "$$\\begin{align*}\\\\\n",
    "    [A]_{0}&=2\\,\\textrm{mol dm}^{-3}\\\\[6pt]\n",
    "    k&=0.5\\,\\textrm{s}^{-1}\\\\\n",
    "\\end{align*}$$\n",
    "- **Step 3:** Plot the time dependent populations of $A$ and $B$ on a single graph. Remember to label your axes correctly (including units), and include a plot legend.\n",
    "\n",
    "<b>Useful commands</b>:\n",
    "\n",
    "<code>np.exp(x)</code> - returns the value of $e^{x}$"
   ]
  },
  {
   "cell_type": "code",
   "execution_count": null,
   "metadata": {
    "scrolled": true
   },
   "outputs": [],
   "source": [
    "#TASK 4 ANSWER:\n"
   ]
  },
  {
   "cell_type": "markdown",
   "metadata": {},
   "source": [
    "## 4.3 - Manually setting plot range\n",
    "\n",
    "By default, Matplotlib will set the $x$- and $y$- plot ranges so as to include all the data. Sometimes you are interested in a subset of the data, and want to focus on a small area of the overall plot. In order to do this, Matplotlib allows you to manually set the range of plot axes using the ``plt.xlim(x_min,x_max)`` and ``plt.ylim(y_min,y_max)`` commands."
   ]
  },
  {
   "cell_type": "code",
   "execution_count": null,
   "metadata": {},
   "outputs": [],
   "source": [
    "#MANUALLY SETTING THE PLOT RANGE - y=x^2+3x-1\n",
    "\n",
    "#Create our data for plotting. In this example, we are going to create an array of x-values  \n",
    "#covering the range x=-10 to x=10, and use  this to create an array of values corresponding to the\n",
    "# quadratic function y=x^2+3x-1\n",
    "x_data=np.linspace(-10,10,128)\n",
    "y_data=x_data**2 + 3*x_data - 1\n",
    "\n",
    "#prepare a plot of the data\n",
    "plt.plot(x_data,y_data,label='x^2 + 3x – 1')\n",
    "\n",
    "#Manually change the x- and y- axis ranges so we can focus on where the plot line crosses the x-axis \n",
    "plt.xlim(-4.5,1.5)\n",
    "plt.ylim(-3.5,3.5)\n",
    "\n",
    "#Lets do the whole thing properly and include axis labels and a plot legend\n",
    "plt.xlabel('x')\n",
    "plt.ylabel('y')\n",
    "plt.legend()\n",
    "\n",
    "plt.show()"
   ]
  },
  {
   "cell_type": "markdown",
   "metadata": {},
   "source": [
    "<div class=\"alert alert-block alert-info\">\n",
    "\n",
    "### Task 5:\n",
    "Plot graphs of $y=e^{-x}$ and $y=\\dfrac{x^{3}}{4}$ over the range $0\\leq x\\leq4$. Set the $x-$ and $y-$axis ranges so as to focus on the region where the two lines cross. Remember to label your axes and include a plot legend."
   ]
  },
  {
   "cell_type": "code",
   "execution_count": null,
   "metadata": {},
   "outputs": [],
   "source": [
    "#TASK 5 ANSWER:\n"
   ]
  },
  {
   "cell_type": "markdown",
   "metadata": {},
   "source": [
    "<div class=\"alert alert-block alert-success\">\n",
    "\n",
    "### Summary of commands introduced in section 4\n",
    "\n",
    "``plt.xlabel('x-axis label)`` - labels the x-axis\n",
    "\n",
    "``plt.ylabel('y-axis label)`` - labels the y-axis\n",
    "\n",
    "``plt.legend()`` - creates a plot legend (requires extra <code>label='plot label'</code> argument in initial <code>plt.plot()</code> command)\n",
    "\n",
    "``plt.xlim(x_min,x_max)`` - sets x-axis plot range between x_min and x_max\n",
    "\n",
    "``plt.ylim(y_min,y_max)`` - sets y-axis plot range between y_min and y_max\n",
    "\n"
   ]
  },
  {
   "cell_type": "markdown",
   "metadata": {},
   "source": [
    "# 5 - Further Customisation Options\n",
    "\n",
    "There are many other options we can change to fine tune the appearence of our plots, including the width and colour of the lines and the line style (<i>e.g.</i> solid, dashed, dots, <i>etc.</i>). We can also change the font (size and family) of the text used in the plot legend, axis markers and labels. With a little effort it is possible to create very high quality plots. \n",
    "\n",
    "## Changing line appearance\n",
    "The various options for the appearance of the lines are set <i>via</i> optional arguments in the ``plt.plot()`` command. The default plot style is a solid blue line (html hex code #1f77b4), drawn with a weight of 1.5 pt. We can change these defaults using following arguments:\n",
    "<ul>\n",
    "    <li> <code>c='line colour'</code> - set line colour</li>\n",
    "    <li>  <code>lw=x.x</code> - set line weight to x.x pt</li>\n",
    "    <li> <code>ls='line style'</code> - set line style</li>\n",
    "</ul>\n",
    "\n",
    "The string used for the ``c='line color'`` command is often either a [named colour](https://matplotlib.org/3.1.0/gallery/color/named_colors.html), or an [html hex code](https://htmlcolors.com) (which are a sequence of letters/numbers looking like ``#6e4973``), although [other formats are supported](https://matplotlib.org/3.1.1/api/colors_api.html). \n",
    "\n",
    "Simple line styles are plotted using the strings ``'solid'``, ``'dashed'``, ``'dotted'``, and ``'dashdot'``, but Matplotlib allows [extensive customisation](https://matplotlib.org/3.1.0/gallery/lines_bars_and_markers/linestyles.html) beyond these.\n",
    "\n",
    "\n"
   ]
  },
  {
   "cell_type": "code",
   "execution_count": null,
   "metadata": {},
   "outputs": [],
   "source": [
    "#CHANGING THE APPEARANCE OF LINES\n",
    "x=np.linspace(0,4,128)\n",
    "y=2*x\n",
    "\n",
    "#make the plot a little bigger\n",
    "plt.figure(figsize=(10,6))\n",
    "\n",
    "#plot four lines, using different widths, colours, and linestyles for each\n",
    "plt.plot(x,y,label='default')\n",
    "plt.plot(x,y+1,c='coral',lw=4,ls='dashed', label='4pt, coral, dashed')\n",
    "plt.plot(x,y+2,c='#5b3069',lw=3,ls='dashdot', label='3pt, \"Warwick Aubergine\", dash-dot')\n",
    "plt.plot(x,y+3,c='#89102c',lw=1.5,ls='dotted', label='3pt, \"Warwick Ruby-red\", dotted')\n",
    "\n",
    "#label the axes\n",
    "plt.xlabel('x')\n",
    "plt.ylabel('y')\n",
    "\n",
    "#CHange the y-scaling to make room for the legend\n",
    "plt.ylim(-0.5,14)\n",
    "\n",
    "#include a legend, and display the plot\n",
    "plt.legend()\n",
    "plt.show()"
   ]
  },
  {
   "cell_type": "markdown",
   "metadata": {},
   "source": [
    "## Final adjustments\n",
    "Using a few more lines of code, we can increase the size of the axis labels and legends, change the font, include grid lines (if desired) and produce a near-publication-quality plot. \n",
    "\n",
    "For example, the below codebox simulates the time-dependent populations of three chemical species, $A,\\,B,$ and $C$, that are linked by consecutive first-order reactions, and generates a high-quality output:\n",
    "\n",
    "$$[A]\\xrightarrow{k_{1}}[B]\\xrightarrow{k_{2}}[C]\\\\[1pt]$$"
   ]
  },
  {
   "cell_type": "markdown",
   "metadata": {},
   "source": [
    "<div class=\"alert alert-block alert-info\">\n",
    "\n",
    "### Task 6:\n",
    "Investigate what happens to the curves in the plot below as the values of $k_{1}$ and $k_{2}$ are changed. As an extra challenge, think about what you learned in CH162:kinetics with regards to rate limiting steps in multi-step reactions, and plot the curves appropriate for the rate-limiting approximation to see how they compare to the true analytical solutions"
   ]
  },
  {
   "cell_type": "code",
   "execution_count": null,
   "metadata": {},
   "outputs": [],
   "source": [
    "#CODE FOR TASK 6\n",
    "#set rate coefficients\n",
    "k1=1.1\n",
    "k2=0.9\n",
    "\n",
    "#Analytical solutions to the rate equations\n",
    "t=np.linspace(0,6,128)\n",
    "conc_A=np.exp(-k1*t)\n",
    "conc_B=(k1/(k2-k1))*(np.exp(-k1*t)-np.exp(-k2*t))\n",
    "conc_C=1+(k1*np.exp(-k2*t)-k2*np.exp(-k1*t))/(k2-k1)\n",
    "\n",
    "#Plot all the things!\n",
    "#make the plot a little bigger\n",
    "plt.figure(figsize=(10,6))\n",
    "\n",
    "#plot the three lines with custom colours. The '$...$' stuff in the label command means that we are using\n",
    "#LaTeX formatting in the legend (subscripts in this case)\n",
    "plt.plot(t,conc_A,c='#D9514E',lw=3,label='$[A]_{t}$')\n",
    "plt.plot(t,conc_B,c='#2A2B2D',lw=3,label='$[B]_{t}$') \n",
    "plt.plot(t,conc_C,c='#2DA8D8',lw=3,label='$[C]_{t}$')\n",
    "\n",
    "#Increase the size of the axis labels and use some more LaTeX typesetting (superscripts)\n",
    "plt.xlabel('Time / s$^{-1}$',fontsize=22)\n",
    "plt.ylabel('Concentration / mol dm$^{-3}$',fontsize=22)\n",
    "plt.tick_params(labelsize=18)\n",
    "\n",
    "#Include light grey gridlines \n",
    "plt.grid(linestyle='dotted',c='0.7')\n",
    "\n",
    "#include a plot legend, but remove the frame because I don't like it (and this is my workshop...)\n",
    "plt.legend(fontsize=18, frameon=False)\n",
    "plt.show()\n",
    "\n"
   ]
  },
  {
   "cell_type": "markdown",
   "metadata": {},
   "source": [
    "# Final Words\n",
    "\n",
    "This workshop has served as a (very) brief introduction to Matplotlib. There are many software packages which let you plot things (including Excel, Origin, and my personal favorite, Igor Pro), and I am certainly not going to claim that Matplotlib is the best - the learning curve is a little too steep and the syntax occasionally a little too convoluted - but if you want a free, operating system agnostic program capable of producing extremely high-quality plots (something Excel is <b>not</b> able to do without putting a *lot* of effort in), it is very hard to beat. \n",
    "\n",
    "There are many things that Matplotlib is capable of doing that we have not had time to cover. As with so many things to do with coding, [Stack Overflow](https://stackoverflow.com/) is an excellent place to find answers about Matplotlib and Python in general. If you think you want to do something using Matplotlib and are not sure how to begin, chances are someone else has already asked the question for you!"
   ]
  },
  {
   "cell_type": "code",
   "execution_count": null,
   "metadata": {},
   "outputs": [],
   "source": []
  }
 ],
 "metadata": {
  "kernelspec": {
   "display_name": "Python 3",
   "language": "python",
   "name": "python3"
  },
  "language_info": {
   "codemirror_mode": {
    "name": "ipython",
    "version": 3
   },
   "file_extension": ".py",
   "mimetype": "text/x-python",
   "name": "python",
   "nbconvert_exporter": "python",
   "pygments_lexer": "ipython3",
   "version": "3.6.9"
  }
 },
 "nbformat": 4,
 "nbformat_minor": 2
}
