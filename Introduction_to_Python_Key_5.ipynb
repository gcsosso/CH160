{
 "cells": [
  {
   "cell_type": "code",
   "execution_count": 1,
   "metadata": {},
   "outputs": [
    {
     "data": {
      "text/html": [
       "<script>\n",
       "code_show=true; \n",
       "function code_toggle() {\n",
       "    if (code_show){\n",
       "        $('div.cell.code_cell.rendered.selected div.input').hide();\n",
       "    } else {\n",
       "        $('div.cell.code_cell.rendered.selected div.input').show();\n",
       "    }\n",
       "    code_show = !code_show\n",
       "} \n",
       "$( document ).ready(code_toggle);\n",
       "</script>\n",
       "Some hidden code... to show/hide this cell's raw code input, click (or double click if stubborn!) <a href=\"javascript:code_toggle()\">here</a>."
      ],
      "text/plain": [
       "<IPython.core.display.HTML object>"
      ]
     },
     "metadata": {},
     "output_type": "display_data"
    },
    {
     "data": {
      "text/html": [
       "<style>\n",
       "div.warn {    \n",
       "    background-color: #b3b3ff;\n",
       "    border-color: #0000b3;\n",
       "    border-left: 5px solid #0000b3;\n",
       "    padding: 0.5em;\n",
       "    }\n",
       " </style>\n"
      ],
      "text/plain": [
       "<IPython.core.display.HTML object>"
      ]
     },
     "execution_count": 1,
     "metadata": {},
     "output_type": "execute_result"
    }
   ],
   "source": [
    "from IPython.display import HTML\n",
    "from IPython.display import display\n",
    "\n",
    "# Taken from https://stackoverflow.com/questions/31517194/how-to-hide-one-specific-cell-input-or-output-in-ipython-notebook\n",
    "tag = HTML('''<script>\n",
    "code_show=true; \n",
    "function code_toggle() {\n",
    "    if (code_show){\n",
    "        $('div.cell.code_cell.rendered.selected div.input').hide();\n",
    "    } else {\n",
    "        $('div.cell.code_cell.rendered.selected div.input').show();\n",
    "    }\n",
    "    code_show = !code_show\n",
    "} \n",
    "$( document ).ready(code_toggle);\n",
    "</script>\n",
    "Some hidden code... to show/hide this cell's raw code input, click (or double click if stubborn!) <a href=\"javascript:code_toggle()\">here</a>.''')\n",
    "display(tag)\n",
    "\n",
    "############### Write code below ##################\n",
    "from IPython.core.display import HTML\n",
    "def css_styling():\n",
    "    styles = open(\"./STUFF/colors.css\", \"r\").read()\n",
    "    return HTML(styles)\n",
    "css_styling()"
   ]
  },
  {
   "cell_type": "markdown",
   "metadata": {},
   "source": [
    "<div class=warn>\n",
    "These blue boxes contain instructions for you to follow, or stuff for you to do\n",
    "<h2>How to access this Jupyter notebook</h2>\n",
    "\n",
    "* <b>Step 1</b>: Open a web browser and go to [this page](https://rem123.csc.warwick.ac.uk:8987/module/CH160).<br>\n",
    "* <b>Step 2</b>: Enter your SCRTP username and password and press the \"Start Server\" button.<br>\n",
    "* <b>Step 3</b>: Wait (it could take a few minutes) until the blue blox says \"Jupyter notebook server running!\". At that point, click on the weblink below said message.<br>\n",
    "* <b>Step 4</b>: Select the Jupyter Notebook you want to work on. Remember to make a copy of the orginal notebook (which is read only). To do so, in the toolbar on top of the notebook, select File and then Make a Copy <br>\n",
    "* <b>Step 5</b>: You're all set! <br>\n",
    "* <b>Step 6</b>: <font color=\"red\">When you are done, remember to click the \"Stop Server\" button in the launcher web browser tab.</font> Please do, it's really quite important. <br>\n",
    "<b> Remember: </b> You can access your copy of the Notebook at any time from any device off and on campus by going through the same steps on e.g. your laptop - all the changes you have made will be saved and synced! <br>\n",
    "<div/>"
   ]
  },
  {
   "cell_type": "markdown",
   "metadata": {},
   "source": [
    "# Workshop 5: Numerical Methods\n",
    "\n",
    "## Introduction\n",
    "\n",
    "In CH162:Mathematics for chemists you have learnt how to differentiate functions, evaluate definite integrals, and solve differential equations - techniques you will use again and again during your chemistry degree. In all cases, \n",
    "we have derived <i>analytical</i> solutions (<i>i.e.</i> the solutions are expressed in terms of a mathematcial function) to the problems at hand. Oftentimes, finding these analytical solutions can be extremely difficult, and in many cases no such analytical solution exists at all. Because of this, we often choose to approximate the solution using <i>numerical methods</i>. This final key skills workshop will teach you how to develop simple programs capable of providing us with these numerical approximations, and builds upon the techniques developed in the past four weeks, including:\n",
    "<ul>\n",
    "  <li>loop structures</li>\n",
    "  <li>defining and using functions</li>\n",
    "  <li>data plotting</li>\n",
    "</ul>\n",
    "\n",
    "### Loading the required python packages\n",
    "As with all Python programming, the first step is load all of the optional modules we will need using the ``import`` command. For this workshop we will use both the ``matplotlib.pyplot`` module, and NumPy (the fundamental Python package for scientific computing). To save having to type out their full names everytime we use them, we will give these modules the aliases ``plt`` (Matplotlib) and ``np`` (NumPy):"
   ]
  },
  {
   "cell_type": "code",
   "execution_count": 6,
   "metadata": {},
   "outputs": [],
   "source": [
    "#IMPORT ALL THE THINGS!\n",
    "import matplotlib.pyplot as plt\n",
    "import numpy as np"
   ]
  },
  {
   "cell_type": "markdown",
   "metadata": {},
   "source": [
    "## 1. Differentiation\n",
    "To differentiate functions numerically, we make direct use of the <i>first principles definition</i> of a derivative:\n",
    "    $$ $$\n",
    "    $$f'(x)=\\lim_{h\\to 0}\\frac{f(x+h)-f(x)}{h}$$\n",
    "    $$ $$    \n",
    "where $f(x)$ and $f'(x)$ are our original function and its derivative, respectively, and $h$ is the stepsize (which we called $\\Delta x$ in the CH162:Mathematics for chemists notes). From this equation you can see that in order to calculate a derivative numerically, all we need is the defintion of the function $f(x)$ itself, and a value for the step size - numerical differentiation just requires that we are able to write functions!\n",
    "\n",
    "As a very simple example lets calculate the derivative of $y=x^{4}$ at $x=1.3$. The analytical solution $(f'(x)=4x^{3})$ tells us that the answer should be 8.788. How well will our numerical approxiation perform?\n",
    "\n",
    "### Step (i)\n",
    "\n",
    "The first step is to define our function $(f(x)=x^{4})$ using python:"
   ]
  },
  {
   "cell_type": "code",
   "execution_count": 7,
   "metadata": {},
   "outputs": [],
   "source": [
    "#WRITE A PYTHON FUNCTION WHICH READS IN A VALUE (x) AND RETURNS THE VALUE x^4 \n",
    "\n",
    "def x_pwr4(x): #'x_pwr4' is called using a number (x) as an argument\n",
    "    return x**4      #and spits out the value of x raised to the fourth power (x^4)"
   ]
  },
  {
   "cell_type": "markdown",
   "metadata": {},
   "source": [
    "<div class=warn>\n",
    "\n",
    "### <font>Task 1:</font>\n",
    "Use the function ``x_pwr4()`` defined above to evaluate $x^{4}$ when $x=3.9$"
   ]
  },
  {
   "cell_type": "code",
   "execution_count": 8,
   "metadata": {},
   "outputs": [
    {
     "data": {
      "text/plain": [
       "231.34409999999997"
      ]
     },
     "execution_count": 8,
     "metadata": {},
     "output_type": "execute_result"
    }
   ],
   "source": [
    "#TASK 1 ANSWER:\n",
    "x_pwr4(3.9)"
   ]
  },
  {
   "cell_type": "markdown",
   "metadata": {},
   "source": [
    "### Step (ii)\n",
    "\n",
    "We can now use this function to calculate the deriviative of $x^{4}$ evaluated at $x=1.3$. The only choice we have to make is what value of $h$ should we use? As a first test lets set $h=1$:"
   ]
  },
  {
   "cell_type": "code",
   "execution_count": 9,
   "metadata": {},
   "outputs": [
    {
     "data": {
      "text/plain": [
       "25.12799999999999"
      ]
     },
     "execution_count": 9,
     "metadata": {},
     "output_type": "execute_result"
    }
   ],
   "source": [
    "#NUMERICALLY CALCULATING A DERIVATIVE USING A STEP SIZE OF h=1\n",
    "\n",
    "#Define a variable 'h' which represents our step size\n",
    "h=1\n",
    "\n",
    "#Use the function 'x_pwr4()' defined above with the step size to numerically approximate the derivative\n",
    "\n",
    "(x_pwr4(1.3+h)-x_pwr4(1.3))/h #f'(x)=[f(x+h)-f(x)]/h"
   ]
  },
  {
   "cell_type": "markdown",
   "metadata": {},
   "source": [
    "Clearly this is nowhere near the correct value! What has gone wrong? \n",
    "\n",
    "The first-principles definition of a derivative is taken in the limit of $h$ approaching zero. This suggests to us that if we decrease the value of $h$ (and thus approach the limit of $h=0$), our numerical answer should become more accurate."
   ]
  },
  {
   "cell_type": "markdown",
   "metadata": {},
   "source": [
    "<div class=warn>\n",
    "\n",
    "### <font>Task 2:</font>\n",
    "Repeat the above calculation using step sizes of $h=0.1,\\,0.01,\\,0.001,\\,0.0001$, and $0.00001$. Try to include a loop in your code which allows you to get all five values from a single execution of your program, rather than running your code five separate times. "
   ]
  },
  {
   "cell_type": "code",
   "execution_count": 10,
   "metadata": {},
   "outputs": [
    {
     "name": "stdout",
     "output_type": "stream",
     "text": [
      "h= 0.1   f`(x)= 9.85500000000001\n",
      "h= 0.01   f`(x)= 8.889921000000012\n",
      "h= 0.001   f`(x)= 8.798145200998864\n",
      "h= 0.0001   f`(x)= 8.789014051999722\n",
      "h= 1e-05   f`(x)= 8.788101400547532\n"
     ]
    }
   ],
   "source": [
    "#TASK 2 ANSWER:\n",
    "h=0.1\n",
    "for i in range(5):\n",
    "    numerical=(x_pwr4(1.3+h)-x_pwr4(1.3))/h\n",
    "    print('h=',h,'  f`(x)=',numerical)\n",
    "    h/=10"
   ]
  },
  {
   "cell_type": "markdown",
   "metadata": {},
   "source": [
    "As expected, as $h$ decreases, the accuracy of the result increases. <b>Note:</b> if you make $h$ too small (below $\\approx 10^{-8}$), the answer will begin to get <i>less</i> accurate - this is due to how Python handles very small numbers.\n",
    "\n",
    "The code below plots the numerical approximation (using the [Bokeh](https://bokeh.pydata.org/en/latest/) package rather than Matplotlib) for the derivative of $y=x^{4}$ over a range of <i>x</i>-values, and compares the answer to the analytical solution. By adjusting the slider beneath the plot the value of $h$ can be changed with the plot updating dynamically (you may need to execute the code cell twice)."
   ]
  },
  {
   "cell_type": "code",
   "execution_count": 11,
   "metadata": {},
   "outputs": [
    {
     "data": {
      "text/html": [
       "\n",
       "    <div class=\"bk-root\">\n",
       "        <a href=\"https://bokeh.pydata.org\" target=\"_blank\" class=\"bk-logo bk-logo-small bk-logo-notebook\"></a>\n",
       "        <span id=\"1001\">Loading BokehJS ...</span>\n",
       "    </div>"
      ]
     },
     "metadata": {},
     "output_type": "display_data"
    },
    {
     "data": {
      "application/javascript": [
       "\n",
       "(function(root) {\n",
       "  function now() {\n",
       "    return new Date();\n",
       "  }\n",
       "\n",
       "  var force = true;\n",
       "\n",
       "  if (typeof root._bokeh_onload_callbacks === \"undefined\" || force === true) {\n",
       "    root._bokeh_onload_callbacks = [];\n",
       "    root._bokeh_is_loading = undefined;\n",
       "  }\n",
       "\n",
       "  var JS_MIME_TYPE = 'application/javascript';\n",
       "  var HTML_MIME_TYPE = 'text/html';\n",
       "  var EXEC_MIME_TYPE = 'application/vnd.bokehjs_exec.v0+json';\n",
       "  var CLASS_NAME = 'output_bokeh rendered_html';\n",
       "\n",
       "  /**\n",
       "   * Render data to the DOM node\n",
       "   */\n",
       "  function render(props, node) {\n",
       "    var script = document.createElement(\"script\");\n",
       "    node.appendChild(script);\n",
       "  }\n",
       "\n",
       "  /**\n",
       "   * Handle when an output is cleared or removed\n",
       "   */\n",
       "  function handleClearOutput(event, handle) {\n",
       "    var cell = handle.cell;\n",
       "\n",
       "    var id = cell.output_area._bokeh_element_id;\n",
       "    var server_id = cell.output_area._bokeh_server_id;\n",
       "    // Clean up Bokeh references\n",
       "    if (id != null && id in Bokeh.index) {\n",
       "      Bokeh.index[id].model.document.clear();\n",
       "      delete Bokeh.index[id];\n",
       "    }\n",
       "\n",
       "    if (server_id !== undefined) {\n",
       "      // Clean up Bokeh references\n",
       "      var cmd = \"from bokeh.io.state import curstate; print(curstate().uuid_to_server['\" + server_id + \"'].get_sessions()[0].document.roots[0]._id)\";\n",
       "      cell.notebook.kernel.execute(cmd, {\n",
       "        iopub: {\n",
       "          output: function(msg) {\n",
       "            var id = msg.content.text.trim();\n",
       "            if (id in Bokeh.index) {\n",
       "              Bokeh.index[id].model.document.clear();\n",
       "              delete Bokeh.index[id];\n",
       "            }\n",
       "          }\n",
       "        }\n",
       "      });\n",
       "      // Destroy server and session\n",
       "      var cmd = \"import bokeh.io.notebook as ion; ion.destroy_server('\" + server_id + \"')\";\n",
       "      cell.notebook.kernel.execute(cmd);\n",
       "    }\n",
       "  }\n",
       "\n",
       "  /**\n",
       "   * Handle when a new output is added\n",
       "   */\n",
       "  function handleAddOutput(event, handle) {\n",
       "    var output_area = handle.output_area;\n",
       "    var output = handle.output;\n",
       "\n",
       "    // limit handleAddOutput to display_data with EXEC_MIME_TYPE content only\n",
       "    if ((output.output_type != \"display_data\") || (!output.data.hasOwnProperty(EXEC_MIME_TYPE))) {\n",
       "      return\n",
       "    }\n",
       "\n",
       "    var toinsert = output_area.element.find(\".\" + CLASS_NAME.split(' ')[0]);\n",
       "\n",
       "    if (output.metadata[EXEC_MIME_TYPE][\"id\"] !== undefined) {\n",
       "      toinsert[toinsert.length - 1].firstChild.textContent = output.data[JS_MIME_TYPE];\n",
       "      // store reference to embed id on output_area\n",
       "      output_area._bokeh_element_id = output.metadata[EXEC_MIME_TYPE][\"id\"];\n",
       "    }\n",
       "    if (output.metadata[EXEC_MIME_TYPE][\"server_id\"] !== undefined) {\n",
       "      var bk_div = document.createElement(\"div\");\n",
       "      bk_div.innerHTML = output.data[HTML_MIME_TYPE];\n",
       "      var script_attrs = bk_div.children[0].attributes;\n",
       "      for (var i = 0; i < script_attrs.length; i++) {\n",
       "        toinsert[toinsert.length - 1].firstChild.setAttribute(script_attrs[i].name, script_attrs[i].value);\n",
       "      }\n",
       "      // store reference to server id on output_area\n",
       "      output_area._bokeh_server_id = output.metadata[EXEC_MIME_TYPE][\"server_id\"];\n",
       "    }\n",
       "  }\n",
       "\n",
       "  function register_renderer(events, OutputArea) {\n",
       "\n",
       "    function append_mime(data, metadata, element) {\n",
       "      // create a DOM node to render to\n",
       "      var toinsert = this.create_output_subarea(\n",
       "        metadata,\n",
       "        CLASS_NAME,\n",
       "        EXEC_MIME_TYPE\n",
       "      );\n",
       "      this.keyboard_manager.register_events(toinsert);\n",
       "      // Render to node\n",
       "      var props = {data: data, metadata: metadata[EXEC_MIME_TYPE]};\n",
       "      render(props, toinsert[toinsert.length - 1]);\n",
       "      element.append(toinsert);\n",
       "      return toinsert\n",
       "    }\n",
       "\n",
       "    /* Handle when an output is cleared or removed */\n",
       "    events.on('clear_output.CodeCell', handleClearOutput);\n",
       "    events.on('delete.Cell', handleClearOutput);\n",
       "\n",
       "    /* Handle when a new output is added */\n",
       "    events.on('output_added.OutputArea', handleAddOutput);\n",
       "\n",
       "    /**\n",
       "     * Register the mime type and append_mime function with output_area\n",
       "     */\n",
       "    OutputArea.prototype.register_mime_type(EXEC_MIME_TYPE, append_mime, {\n",
       "      /* Is output safe? */\n",
       "      safe: true,\n",
       "      /* Index of renderer in `output_area.display_order` */\n",
       "      index: 0\n",
       "    });\n",
       "  }\n",
       "\n",
       "  // register the mime type if in Jupyter Notebook environment and previously unregistered\n",
       "  if (root.Jupyter !== undefined) {\n",
       "    var events = require('base/js/events');\n",
       "    var OutputArea = require('notebook/js/outputarea').OutputArea;\n",
       "\n",
       "    if (OutputArea.prototype.mime_types().indexOf(EXEC_MIME_TYPE) == -1) {\n",
       "      register_renderer(events, OutputArea);\n",
       "    }\n",
       "  }\n",
       "\n",
       "  \n",
       "  if (typeof (root._bokeh_timeout) === \"undefined\" || force === true) {\n",
       "    root._bokeh_timeout = Date.now() + 5000;\n",
       "    root._bokeh_failed_load = false;\n",
       "  }\n",
       "\n",
       "  var NB_LOAD_WARNING = {'data': {'text/html':\n",
       "     \"<div style='background-color: #fdd'>\\n\"+\n",
       "     \"<p>\\n\"+\n",
       "     \"BokehJS does not appear to have successfully loaded. If loading BokehJS from CDN, this \\n\"+\n",
       "     \"may be due to a slow or bad network connection. Possible fixes:\\n\"+\n",
       "     \"</p>\\n\"+\n",
       "     \"<ul>\\n\"+\n",
       "     \"<li>re-rerun `output_notebook()` to attempt to load from CDN again, or</li>\\n\"+\n",
       "     \"<li>use INLINE resources instead, as so:</li>\\n\"+\n",
       "     \"</ul>\\n\"+\n",
       "     \"<code>\\n\"+\n",
       "     \"from bokeh.resources import INLINE\\n\"+\n",
       "     \"output_notebook(resources=INLINE)\\n\"+\n",
       "     \"</code>\\n\"+\n",
       "     \"</div>\"}};\n",
       "\n",
       "  function display_loaded() {\n",
       "    var el = document.getElementById(\"1001\");\n",
       "    if (el != null) {\n",
       "      el.textContent = \"BokehJS is loading...\";\n",
       "    }\n",
       "    if (root.Bokeh !== undefined) {\n",
       "      if (el != null) {\n",
       "        el.textContent = \"BokehJS \" + root.Bokeh.version + \" successfully loaded.\";\n",
       "      }\n",
       "    } else if (Date.now() < root._bokeh_timeout) {\n",
       "      setTimeout(display_loaded, 100)\n",
       "    }\n",
       "  }\n",
       "\n",
       "\n",
       "  function run_callbacks() {\n",
       "    try {\n",
       "      root._bokeh_onload_callbacks.forEach(function(callback) {\n",
       "        if (callback != null)\n",
       "          callback();\n",
       "      });\n",
       "    } finally {\n",
       "      delete root._bokeh_onload_callbacks\n",
       "    }\n",
       "    console.debug(\"Bokeh: all callbacks have finished\");\n",
       "  }\n",
       "\n",
       "  function load_libs(css_urls, js_urls, callback) {\n",
       "    if (css_urls == null) css_urls = [];\n",
       "    if (js_urls == null) js_urls = [];\n",
       "\n",
       "    root._bokeh_onload_callbacks.push(callback);\n",
       "    if (root._bokeh_is_loading > 0) {\n",
       "      console.debug(\"Bokeh: BokehJS is being loaded, scheduling callback at\", now());\n",
       "      return null;\n",
       "    }\n",
       "    if (js_urls == null || js_urls.length === 0) {\n",
       "      run_callbacks();\n",
       "      return null;\n",
       "    }\n",
       "    console.debug(\"Bokeh: BokehJS not loaded, scheduling load and callback at\", now());\n",
       "    root._bokeh_is_loading = css_urls.length + js_urls.length;\n",
       "\n",
       "    function on_load() {\n",
       "      root._bokeh_is_loading--;\n",
       "      if (root._bokeh_is_loading === 0) {\n",
       "        console.debug(\"Bokeh: all BokehJS libraries/stylesheets loaded\");\n",
       "        run_callbacks()\n",
       "      }\n",
       "    }\n",
       "\n",
       "    function on_error() {\n",
       "      console.error(\"failed to load \" + url);\n",
       "    }\n",
       "\n",
       "    for (var i = 0; i < css_urls.length; i++) {\n",
       "      var url = css_urls[i];\n",
       "      const element = document.createElement(\"link\");\n",
       "      element.onload = on_load;\n",
       "      element.onerror = on_error;\n",
       "      element.rel = \"stylesheet\";\n",
       "      element.type = \"text/css\";\n",
       "      element.href = url;\n",
       "      console.debug(\"Bokeh: injecting link tag for BokehJS stylesheet: \", url);\n",
       "      document.body.appendChild(element);\n",
       "    }\n",
       "\n",
       "    for (var i = 0; i < js_urls.length; i++) {\n",
       "      var url = js_urls[i];\n",
       "      var element = document.createElement('script');\n",
       "      element.onload = on_load;\n",
       "      element.onerror = on_error;\n",
       "      element.async = false;\n",
       "      element.src = url;\n",
       "      console.debug(\"Bokeh: injecting script tag for BokehJS library: \", url);\n",
       "      document.head.appendChild(element);\n",
       "    }\n",
       "  };var element = document.getElementById(\"1001\");\n",
       "  if (element == null) {\n",
       "    console.error(\"Bokeh: ERROR: autoload.js configured with elementid '1001' but no matching script tag was found. \")\n",
       "    return false;\n",
       "  }\n",
       "\n",
       "  function inject_raw_css(css) {\n",
       "    const element = document.createElement(\"style\");\n",
       "    element.appendChild(document.createTextNode(css));\n",
       "    document.body.appendChild(element);\n",
       "  }\n",
       "\n",
       "  var js_urls = [\"https://cdn.pydata.org/bokeh/release/bokeh-1.3.4.min.js\", \"https://cdn.pydata.org/bokeh/release/bokeh-widgets-1.3.4.min.js\", \"https://cdn.pydata.org/bokeh/release/bokeh-tables-1.3.4.min.js\", \"https://cdn.pydata.org/bokeh/release/bokeh-gl-1.3.4.min.js\"];\n",
       "  var css_urls = [];\n",
       "\n",
       "  var inline_js = [\n",
       "    function(Bokeh) {\n",
       "      Bokeh.set_log_level(\"info\");\n",
       "    },\n",
       "    \n",
       "    function(Bokeh) {\n",
       "      \n",
       "    },\n",
       "    function(Bokeh) {} // ensure no trailing comma for IE\n",
       "  ];\n",
       "\n",
       "  function run_inline_js() {\n",
       "    \n",
       "    if ((root.Bokeh !== undefined) || (force === true)) {\n",
       "      for (var i = 0; i < inline_js.length; i++) {\n",
       "        inline_js[i].call(root, root.Bokeh);\n",
       "      }if (force === true) {\n",
       "        display_loaded();\n",
       "      }} else if (Date.now() < root._bokeh_timeout) {\n",
       "      setTimeout(run_inline_js, 100);\n",
       "    } else if (!root._bokeh_failed_load) {\n",
       "      console.log(\"Bokeh: BokehJS failed to load within specified timeout.\");\n",
       "      root._bokeh_failed_load = true;\n",
       "    } else if (force !== true) {\n",
       "      var cell = $(document.getElementById(\"1001\")).parents('.cell').data().cell;\n",
       "      cell.output_area.append_execute_result(NB_LOAD_WARNING)\n",
       "    }\n",
       "\n",
       "  }\n",
       "\n",
       "  if (root._bokeh_is_loading === 0) {\n",
       "    console.debug(\"Bokeh: BokehJS loaded, going straight to plotting\");\n",
       "    run_inline_js();\n",
       "  } else {\n",
       "    load_libs(css_urls, js_urls, function() {\n",
       "      console.debug(\"Bokeh: BokehJS plotting callback run at\", now());\n",
       "      run_inline_js();\n",
       "    });\n",
       "  }\n",
       "}(window));"
      ],
      "application/vnd.bokehjs_load.v0+json": "\n(function(root) {\n  function now() {\n    return new Date();\n  }\n\n  var force = true;\n\n  if (typeof root._bokeh_onload_callbacks === \"undefined\" || force === true) {\n    root._bokeh_onload_callbacks = [];\n    root._bokeh_is_loading = undefined;\n  }\n\n  \n\n  \n  if (typeof (root._bokeh_timeout) === \"undefined\" || force === true) {\n    root._bokeh_timeout = Date.now() + 5000;\n    root._bokeh_failed_load = false;\n  }\n\n  var NB_LOAD_WARNING = {'data': {'text/html':\n     \"<div style='background-color: #fdd'>\\n\"+\n     \"<p>\\n\"+\n     \"BokehJS does not appear to have successfully loaded. If loading BokehJS from CDN, this \\n\"+\n     \"may be due to a slow or bad network connection. Possible fixes:\\n\"+\n     \"</p>\\n\"+\n     \"<ul>\\n\"+\n     \"<li>re-rerun `output_notebook()` to attempt to load from CDN again, or</li>\\n\"+\n     \"<li>use INLINE resources instead, as so:</li>\\n\"+\n     \"</ul>\\n\"+\n     \"<code>\\n\"+\n     \"from bokeh.resources import INLINE\\n\"+\n     \"output_notebook(resources=INLINE)\\n\"+\n     \"</code>\\n\"+\n     \"</div>\"}};\n\n  function display_loaded() {\n    var el = document.getElementById(\"1001\");\n    if (el != null) {\n      el.textContent = \"BokehJS is loading...\";\n    }\n    if (root.Bokeh !== undefined) {\n      if (el != null) {\n        el.textContent = \"BokehJS \" + root.Bokeh.version + \" successfully loaded.\";\n      }\n    } else if (Date.now() < root._bokeh_timeout) {\n      setTimeout(display_loaded, 100)\n    }\n  }\n\n\n  function run_callbacks() {\n    try {\n      root._bokeh_onload_callbacks.forEach(function(callback) {\n        if (callback != null)\n          callback();\n      });\n    } finally {\n      delete root._bokeh_onload_callbacks\n    }\n    console.debug(\"Bokeh: all callbacks have finished\");\n  }\n\n  function load_libs(css_urls, js_urls, callback) {\n    if (css_urls == null) css_urls = [];\n    if (js_urls == null) js_urls = [];\n\n    root._bokeh_onload_callbacks.push(callback);\n    if (root._bokeh_is_loading > 0) {\n      console.debug(\"Bokeh: BokehJS is being loaded, scheduling callback at\", now());\n      return null;\n    }\n    if (js_urls == null || js_urls.length === 0) {\n      run_callbacks();\n      return null;\n    }\n    console.debug(\"Bokeh: BokehJS not loaded, scheduling load and callback at\", now());\n    root._bokeh_is_loading = css_urls.length + js_urls.length;\n\n    function on_load() {\n      root._bokeh_is_loading--;\n      if (root._bokeh_is_loading === 0) {\n        console.debug(\"Bokeh: all BokehJS libraries/stylesheets loaded\");\n        run_callbacks()\n      }\n    }\n\n    function on_error() {\n      console.error(\"failed to load \" + url);\n    }\n\n    for (var i = 0; i < css_urls.length; i++) {\n      var url = css_urls[i];\n      const element = document.createElement(\"link\");\n      element.onload = on_load;\n      element.onerror = on_error;\n      element.rel = \"stylesheet\";\n      element.type = \"text/css\";\n      element.href = url;\n      console.debug(\"Bokeh: injecting link tag for BokehJS stylesheet: \", url);\n      document.body.appendChild(element);\n    }\n\n    for (var i = 0; i < js_urls.length; i++) {\n      var url = js_urls[i];\n      var element = document.createElement('script');\n      element.onload = on_load;\n      element.onerror = on_error;\n      element.async = false;\n      element.src = url;\n      console.debug(\"Bokeh: injecting script tag for BokehJS library: \", url);\n      document.head.appendChild(element);\n    }\n  };var element = document.getElementById(\"1001\");\n  if (element == null) {\n    console.error(\"Bokeh: ERROR: autoload.js configured with elementid '1001' but no matching script tag was found. \")\n    return false;\n  }\n\n  function inject_raw_css(css) {\n    const element = document.createElement(\"style\");\n    element.appendChild(document.createTextNode(css));\n    document.body.appendChild(element);\n  }\n\n  var js_urls = [\"https://cdn.pydata.org/bokeh/release/bokeh-1.3.4.min.js\", \"https://cdn.pydata.org/bokeh/release/bokeh-widgets-1.3.4.min.js\", \"https://cdn.pydata.org/bokeh/release/bokeh-tables-1.3.4.min.js\", \"https://cdn.pydata.org/bokeh/release/bokeh-gl-1.3.4.min.js\"];\n  var css_urls = [];\n\n  var inline_js = [\n    function(Bokeh) {\n      Bokeh.set_log_level(\"info\");\n    },\n    \n    function(Bokeh) {\n      \n    },\n    function(Bokeh) {} // ensure no trailing comma for IE\n  ];\n\n  function run_inline_js() {\n    \n    if ((root.Bokeh !== undefined) || (force === true)) {\n      for (var i = 0; i < inline_js.length; i++) {\n        inline_js[i].call(root, root.Bokeh);\n      }if (force === true) {\n        display_loaded();\n      }} else if (Date.now() < root._bokeh_timeout) {\n      setTimeout(run_inline_js, 100);\n    } else if (!root._bokeh_failed_load) {\n      console.log(\"Bokeh: BokehJS failed to load within specified timeout.\");\n      root._bokeh_failed_load = true;\n    } else if (force !== true) {\n      var cell = $(document.getElementById(\"1001\")).parents('.cell').data().cell;\n      cell.output_area.append_execute_result(NB_LOAD_WARNING)\n    }\n\n  }\n\n  if (root._bokeh_is_loading === 0) {\n    console.debug(\"Bokeh: BokehJS loaded, going straight to plotting\");\n    run_inline_js();\n  } else {\n    load_libs(css_urls, js_urls, function() {\n      console.debug(\"Bokeh: BokehJS plotting callback run at\", now());\n      run_inline_js();\n    });\n  }\n}(window));"
     },
     "metadata": {},
     "output_type": "display_data"
    },
    {
     "data": {
      "text/html": [
       "\n",
       "\n",
       "\n",
       "\n",
       "\n",
       "\n",
       "  <div class=\"bk-root\" id=\"6fa1f1c2-c931-4fb3-ab8f-a3bfa77899b9\" data-root-id=\"1002\"></div>\n"
      ]
     },
     "metadata": {},
     "output_type": "display_data"
    },
    {
     "data": {
      "application/javascript": [
       "(function(root) {\n",
       "  function embed_document(root) {\n",
       "    \n",
       "  var docs_json = {\"62254d6e-6241-46c5-b183-901499c943e5\":{\"roots\":{\"references\":[{\"attributes\":{\"below\":[{\"id\":\"1011\",\"type\":\"LinearAxis\"}],\"center\":[{\"id\":\"1015\",\"type\":\"Grid\"},{\"id\":\"1020\",\"type\":\"Grid\"},{\"id\":\"1046\",\"type\":\"Legend\"}],\"left\":[{\"id\":\"1016\",\"type\":\"LinearAxis\"}],\"plot_height\":400,\"renderers\":[{\"id\":\"1037\",\"type\":\"GlyphRenderer\"},{\"id\":\"1051\",\"type\":\"GlyphRenderer\"}],\"title\":{\"id\":\"1040\",\"type\":\"Title\"},\"toolbar\":{\"id\":\"1027\",\"type\":\"Toolbar\"},\"x_range\":{\"id\":\"1003\",\"type\":\"DataRange1d\"},\"x_scale\":{\"id\":\"1007\",\"type\":\"LinearScale\"},\"y_range\":{\"id\":\"1005\",\"type\":\"Range1d\"},\"y_scale\":{\"id\":\"1009\",\"type\":\"LinearScale\"}},\"id\":\"1002\",\"subtype\":\"Figure\",\"type\":\"Plot\"},{\"attributes\":{},\"id\":\"1072\",\"type\":\"UnionRenderers\"},{\"attributes\":{\"label\":{\"value\":\"Numerical approximation\"},\"renderers\":[{\"id\":\"1051\",\"type\":\"GlyphRenderer\"}]},\"id\":\"1062\",\"type\":\"LegendItem\"},{\"attributes\":{\"line_color\":\"#D9514E\",\"line_width\":4,\"x\":{\"field\":\"x\"},\"y\":{\"field\":\"y\"}},\"id\":\"1035\",\"type\":\"Line\"},{\"attributes\":{},\"id\":\"1025\",\"type\":\"ResetTool\"},{\"attributes\":{\"source\":{\"id\":\"1048\",\"type\":\"ColumnDataSource\"}},\"id\":\"1052\",\"type\":\"CDSView\"},{\"attributes\":{},\"id\":\"1026\",\"type\":\"HelpTool\"},{\"attributes\":{\"callback\":null},\"id\":\"1003\",\"type\":\"DataRange1d\"},{\"attributes\":{\"active_drag\":\"auto\",\"active_inspect\":\"auto\",\"active_multi\":null,\"active_scroll\":\"auto\",\"active_tap\":\"auto\",\"tools\":[{\"id\":\"1021\",\"type\":\"PanTool\"},{\"id\":\"1022\",\"type\":\"WheelZoomTool\"},{\"id\":\"1023\",\"type\":\"BoxZoomTool\"},{\"id\":\"1024\",\"type\":\"SaveTool\"},{\"id\":\"1025\",\"type\":\"ResetTool\"},{\"id\":\"1026\",\"type\":\"HelpTool\"}]},\"id\":\"1027\",\"type\":\"Toolbar\"},{\"attributes\":{},\"id\":\"1073\",\"type\":\"Selection\"},{\"attributes\":{},\"id\":\"1007\",\"type\":\"LinearScale\"},{\"attributes\":{},\"id\":\"1009\",\"type\":\"LinearScale\"},{\"attributes\":{\"data_source\":{\"id\":\"1034\",\"type\":\"ColumnDataSource\"},\"glyph\":{\"id\":\"1035\",\"type\":\"Line\"},\"hover_glyph\":null,\"muted_glyph\":null,\"nonselection_glyph\":{\"id\":\"1036\",\"type\":\"Line\"},\"selection_glyph\":null,\"view\":{\"id\":\"1038\",\"type\":\"CDSView\"}},\"id\":\"1037\",\"type\":\"GlyphRenderer\"},{\"attributes\":{\"source\":{\"id\":\"1034\",\"type\":\"ColumnDataSource\"}},\"id\":\"1038\",\"type\":\"CDSView\"},{\"attributes\":{\"axis_label\":\"x\",\"formatter\":{\"id\":\"1044\",\"type\":\"BasicTickFormatter\"},\"ticker\":{\"id\":\"1012\",\"type\":\"BasicTicker\"}},\"id\":\"1011\",\"type\":\"LinearAxis\"},{\"attributes\":{\"text\":\"\"},\"id\":\"1040\",\"type\":\"Title\"},{\"attributes\":{},\"id\":\"1012\",\"type\":\"BasicTicker\"},{\"attributes\":{},\"id\":\"1042\",\"type\":\"BasicTickFormatter\"},{\"attributes\":{\"ticker\":{\"id\":\"1012\",\"type\":\"BasicTicker\"}},\"id\":\"1015\",\"type\":\"Grid\"},{\"attributes\":{},\"id\":\"1044\",\"type\":\"BasicTickFormatter\"},{\"attributes\":{\"axis_label\":\"y\",\"formatter\":{\"id\":\"1042\",\"type\":\"BasicTickFormatter\"},\"ticker\":{\"id\":\"1017\",\"type\":\"BasicTicker\"}},\"id\":\"1016\",\"type\":\"LinearAxis\"},{\"attributes\":{\"bottom_units\":\"screen\",\"fill_alpha\":{\"value\":0.5},\"fill_color\":{\"value\":\"lightgrey\"},\"left_units\":\"screen\",\"level\":\"overlay\",\"line_alpha\":{\"value\":1.0},\"line_color\":{\"value\":\"black\"},\"line_dash\":[4,4],\"line_width\":{\"value\":2},\"render_mode\":\"css\",\"right_units\":\"screen\",\"top_units\":\"screen\"},\"id\":\"1045\",\"type\":\"BoxAnnotation\"},{\"attributes\":{\"callback\":null,\"end\":15,\"start\":-15},\"id\":\"1005\",\"type\":\"Range1d\"},{\"attributes\":{},\"id\":\"1017\",\"type\":\"BasicTicker\"},{\"attributes\":{\"items\":[{\"id\":\"1047\",\"type\":\"LegendItem\"},{\"id\":\"1062\",\"type\":\"LegendItem\"}],\"location\":\"top_left\"},\"id\":\"1046\",\"type\":\"Legend\"},{\"attributes\":{\"dimension\":1,\"ticker\":{\"id\":\"1017\",\"type\":\"BasicTicker\"}},\"id\":\"1020\",\"type\":\"Grid\"},{\"attributes\":{\"label\":{\"value\":\"4x^3\"},\"renderers\":[{\"id\":\"1037\",\"type\":\"GlyphRenderer\"}]},\"id\":\"1047\",\"type\":\"LegendItem\"},{\"attributes\":{\"callback\":null,\"data\":{\"x\":{\"__ndarray__\":\"AAAAAAAA+L/P8zzP8zz3v57neZ7nefa/btu2bdu29b89z/M8z/P0vwzDMAzDMPS/3LZt27Zt87+rqqqqqqryv3qe53me5/G/SZIkSZIk8b8YhmEYhmHwv9DzPM/zPO+/btu2bdu27b8MwzAMwzDsv6uqqqqqquq/SpIkSZIk6b/oeZ7neZ7nv4ZhGIZhGOa/JUmSJEmS5L/EMAzDMAzjv2IYhmEYhuG/AAAAAAAA4L9Az/M8z/Pcv3ye53me59m/uG3btm3b1r/0PM/zPM/TvzAMwzAMw9C/4LZt27Zty79YVVVVVVXFv6DneZ7neb6/oCRJkiRJsr9AhmEYhmGYvwCGYRiGYZg/kCRJkiRJsj+g53me53m+P1BVVVVVVcU/2LZt27Ztyz8wDMMwDMPQP/A8z/M8z9M/tG3btm3b1j94nud5nufZPzzP8zzP89w/AAAAAAAA4D9gGIZhGIbhP8AwDMMwDOM/JEmSJEmS5D+EYRiGYRjmP+h5nud5nuc/SJIkSZIk6T+oqqqqqqrqPwzDMAzDMOw/bNu2bdu27T/Q8zzP8zzvPxiGYRiGYfA/SJIkSZIk8T96nud5nufxP6qqqqqqqvI/2rZt27Zt8z8MwzAMwzD0PzzP8zzP8/Q/bNu2bdu29T+e53me53n2P87zPM/zPPc/AAAAAAAA+D8=\",\"dtype\":\"float64\",\"shape\":[64]},\"y\":{\"__ndarray__\":\"tMpMaf0VIMDlEIcfj7YcwFZX56rdgxnAnZc/Gz+RFsCNABUXDNwTwALB7ESdYRHAuw+YlpY+DsDhB3Ch3SQKwDfIa/fAcAbAcK6V5fEcA8BCGPi4ISQAwM3GOn0DAvu/F9sfh4Zc9r/UKLQpL03yv+LWGP6/ku2/rrx6QveM57/gebdUyXPiv6EK8dH2Y9y/savOZqVk1b8sibWgUX7Pv/OF0O0Wksa/LlIoC19fv7/wm0xxYAS1v3w/s1630qq/aVFsmumRn7+lg+XCMV+Ovy2vinoxcl2/wDCGe6I9hj+FraGZnVmaP9UcYrtNQKc/ePj+E8mOsj/tcgZoJAy8P4jjPZwHYcQ/F58J8i+tzD9nSGAyu5/TP6Bu3hFjNto/TiqWl4Ii4T9ThvuQC/vlP4HU9UAHuus/Cc+tOVg68T8UtgH6ICD1P/bjYUf7mPk/RZ25h4Sv/j9HE3oQLTcCQDVifrwMcAVAw13f+q8HCUAmqJJ+ZQMNQODxRv09tBBAYVnjECEeE0DBW5lTA8IVQC7K4x6MohhAvnU9zGLCG0CjLyG1LiQfQHzkhJlLZSFAcgm5zyFcI0BMb+qp7XclQJR+1tQCuidA4J86/bQjKkDKO9TPV7YsQNi6YPk+cy9A0cJOE98tMUBgAiSClLgyQF7Qjp9pWjRAFuHtQQgUNkA=\",\"dtype\":\"float64\",\"shape\":[64]}},\"selected\":{\"id\":\"1073\",\"type\":\"Selection\"},\"selection_policy\":{\"id\":\"1072\",\"type\":\"UnionRenderers\"}},\"id\":\"1048\",\"type\":\"ColumnDataSource\"},{\"attributes\":{\"fill_alpha\":{\"value\":0.5},\"fill_color\":{\"value\":\"#2A2B2D\"},\"line_alpha\":{\"value\":0.5},\"line_color\":{\"value\":\"#2A2B2D\"},\"size\":{\"units\":\"screen\",\"value\":8},\"x\":{\"field\":\"x\"},\"y\":{\"field\":\"y\"}},\"id\":\"1049\",\"type\":\"Circle\"},{\"attributes\":{\"fill_alpha\":{\"value\":0.1},\"fill_color\":{\"value\":\"#1f77b4\"},\"line_alpha\":{\"value\":0.1},\"line_color\":{\"value\":\"#1f77b4\"},\"size\":{\"units\":\"screen\",\"value\":8},\"x\":{\"field\":\"x\"},\"y\":{\"field\":\"y\"}},\"id\":\"1050\",\"type\":\"Circle\"},{\"attributes\":{},\"id\":\"1021\",\"type\":\"PanTool\"},{\"attributes\":{\"data_source\":{\"id\":\"1048\",\"type\":\"ColumnDataSource\"},\"glyph\":{\"id\":\"1049\",\"type\":\"Circle\"},\"hover_glyph\":null,\"muted_glyph\":null,\"nonselection_glyph\":{\"id\":\"1050\",\"type\":\"Circle\"},\"selection_glyph\":null,\"view\":{\"id\":\"1052\",\"type\":\"CDSView\"}},\"id\":\"1051\",\"type\":\"GlyphRenderer\"},{\"attributes\":{},\"id\":\"1022\",\"type\":\"WheelZoomTool\"},{\"attributes\":{\"callback\":null,\"data\":{\"x\":{\"__ndarray__\":\"AAAAAAAA+L/P8zzP8zz3v57neZ7nefa/btu2bdu29b89z/M8z/P0vwzDMAzDMPS/3LZt27Zt87+rqqqqqqryv3qe53me5/G/SZIkSZIk8b8YhmEYhmHwv9DzPM/zPO+/btu2bdu27b8MwzAMwzDsv6uqqqqqquq/SpIkSZIk6b/oeZ7neZ7nv4ZhGIZhGOa/JUmSJEmS5L/EMAzDMAzjv2IYhmEYhuG/AAAAAAAA4L9Az/M8z/Pcv3ye53me59m/uG3btm3b1r/0PM/zPM/TvzAMwzAMw9C/4LZt27Zty79YVVVVVVXFv6DneZ7neb6/oCRJkiRJsr9AhmEYhmGYvwCGYRiGYZg/kCRJkiRJsj+g53me53m+P1BVVVVVVcU/2LZt27Ztyz8wDMMwDMPQP/A8z/M8z9M/tG3btm3b1j94nud5nufZPzzP8zzP89w/AAAAAAAA4D9gGIZhGIbhP8AwDMMwDOM/JEmSJEmS5D+EYRiGYRjmP+h5nud5nuc/SJIkSZIk6T+oqqqqqqrqPwzDMAzDMOw/bNu2bdu27T/Q8zzP8zzvPxiGYRiGYfA/SJIkSZIk8T96nud5nufxP6qqqqqqqvI/2rZt27Zt8z8MwzAMwzD0PzzP8zzP8/Q/bNu2bdu29T+e53me53n2P87zPM/zPPc/AAAAAAAA+D8=\",\"dtype\":\"float64\",\"shape\":[64]},\"y\":{\"__ndarray__\":\"AAAAAAAAK8DHqUofZIIowAdJJlNALSbALnXV7kD/I8CmxZpFEvchwN3RuKpgEyDAh2Lk4rClHMCG9hLaS2gZwJWOguHqaxbAkFm4n+atE8BQhjm7lysRwGeHFrWtxA3AH4FlSPmeCcCEV2p9w+AFwE1oL6G9hALAWCJ+ATIL/7+tX0fSDbz5vwdEz05xEfW/1IoqEb8A8b/03ttms/7qv8laXJ9HBeW/AAAAAAAA4L/oiuB5Q7PXv+FDrRTk+dC/RjFycdhSx79o21s5mV2+v8gwZ/dyZbK/yzKkfM8mpL9vL6G9hPaSv4zuV7+OpHu/U09aUSXiV79hOAweZU4Mv4I3DB5lTgw/FE9aUSXiVz+M7le/jqR7P1ovob2E9pI/uTKkfM8mpD/IMGf3cmWyP1XbWzmZXb4/OjFycdhSxz/ZQ60U5PnQP96K4HlDs9c/AAAAAAAA4D/CWlyfRwXlP+Pe22az/uo/0YoqEb8A8T8BRM9OcRH1P61fR9INvPk/USJ+ATIL/z9GaC+hvYQCQIRXan3D4AVAGoFlSPmeCUBnhxa1rcQNQFCGObuXKxFAjFm4n+atE0CVjoLh6msWQIL2EtpLaBlAf2Lk4rClHEDd0biqYBMgQKPFmkUS9yFAKXXV7kD/I0AHSSZTQC0mQMSpSh9kgihAAAAAAAAAK0A=\",\"dtype\":\"float64\",\"shape\":[64]}},\"selected\":{\"id\":\"1061\",\"type\":\"Selection\"},\"selection_policy\":{\"id\":\"1060\",\"type\":\"UnionRenderers\"}},\"id\":\"1034\",\"type\":\"ColumnDataSource\"},{\"attributes\":{\"overlay\":{\"id\":\"1045\",\"type\":\"BoxAnnotation\"}},\"id\":\"1023\",\"type\":\"BoxZoomTool\"},{\"attributes\":{},\"id\":\"1060\",\"type\":\"UnionRenderers\"},{\"attributes\":{\"line_alpha\":0.1,\"line_color\":\"#1f77b4\",\"line_width\":4,\"x\":{\"field\":\"x\"},\"y\":{\"field\":\"y\"}},\"id\":\"1036\",\"type\":\"Line\"},{\"attributes\":{},\"id\":\"1024\",\"type\":\"SaveTool\"},{\"attributes\":{},\"id\":\"1061\",\"type\":\"Selection\"}],\"root_ids\":[\"1002\"]},\"title\":\"Bokeh Application\",\"version\":\"1.3.4\"}};\n",
       "  var render_items = [{\"docid\":\"62254d6e-6241-46c5-b183-901499c943e5\",\"notebook_comms_target\":\"1074\",\"roots\":{\"1002\":\"6fa1f1c2-c931-4fb3-ab8f-a3bfa77899b9\"}}];\n",
       "  root.Bokeh.embed.embed_items_notebook(docs_json, render_items);\n",
       "\n",
       "  }\n",
       "  if (root.Bokeh !== undefined) {\n",
       "    embed_document(root);\n",
       "  } else {\n",
       "    var attempts = 0;\n",
       "    var timer = setInterval(function(root) {\n",
       "      if (root.Bokeh !== undefined) {\n",
       "        embed_document(root);\n",
       "        clearInterval(timer);\n",
       "      }\n",
       "      attempts++;\n",
       "      if (attempts > 100) {\n",
       "        console.log(\"Bokeh: ERROR: Unable to run BokehJS code because BokehJS library is missing\");\n",
       "        clearInterval(timer);\n",
       "      }\n",
       "    }, 10, root)\n",
       "  }\n",
       "})(window);"
      ],
      "application/vnd.bokehjs_exec.v0+json": ""
     },
     "metadata": {
      "application/vnd.bokehjs_exec.v0+json": {
       "id": "1002"
      }
     },
     "output_type": "display_data"
    },
    {
     "data": {
      "application/vnd.jupyter.widget-view+json": {
       "model_id": "fe4eeb713b4b4ef599d1baa06e17f38f",
       "version_major": 2,
       "version_minor": 0
      },
      "text/plain": [
       "interactive(children=(FloatSlider(value=0.5, description='h', max=1.0, min=0.005, step=0.005), Output()), _dom…"
      ]
     },
     "metadata": {},
     "output_type": "display_data"
    },
    {
     "data": {
      "text/plain": [
       "<function __main__.plot(h)>"
      ]
     },
     "execution_count": 11,
     "metadata": {},
     "output_type": "execute_result"
    }
   ],
   "source": [
    "#DAN SHOWING OFF HIS FANCY PLOTTING SKILLS\n",
    "\n",
    "from bokeh.plotting import figure, output_file, show\n",
    "from ipywidgets import interact,FloatSlider\n",
    "from bokeh.io import output_notebook,push_notebook\n",
    "output_notebook()\n",
    "\n",
    "def numDiff(x,h):\n",
    "    return (x_pwr4(x+h)-x_pwr4(x))/h\n",
    "\n",
    "x=np.linspace(-1.5,1.5,64)\n",
    "\n",
    "y=x_pwr4(x)\n",
    "y_diff=numDiff(x,0.51)\n",
    "\n",
    "\n",
    "fig=figure(plot_height=400,plot_width=600,y_range=(-15,15))\n",
    "fig.line(x,4*x**3,legend='4x^3',line_width=4, color='#D9514E')\n",
    "fig.xaxis.axis_label='x'\n",
    "fig.yaxis.axis_label='y'\n",
    "diff=fig.circle(x,y_diff,color='#2A2B2D',legend='Numerical approximation',size=8,alpha=0.5)\n",
    "fig.legend.location = 'top_left'\n",
    "#show(fig)\n",
    "\n",
    "def plot(h):\n",
    "    \n",
    "    diff.data_source.data['y']=numDiff(x,h)\n",
    "    push_notebook()\n",
    "    \n",
    "\n",
    "show(fig,notebook_handle=True)    \n",
    "interact(plot,h=FloatSlider(min=0.005, max=1.0,value=0.5, step=0.005,label='Step'))"
   ]
  },
  {
   "cell_type": "markdown",
   "metadata": {},
   "source": [
    "## 2. Numerical Integration"
   ]
  },
  {
   "cell_type": "markdown",
   "metadata": {},
   "source": [
    "### Integration is hard...\n",
    "\n",
    "<img src=\"./STUFF/integration_hurts_my_head.png\" width=\"700\">\n",
    "\n",
    "The methods taught to you in CH162 are not able to solve many of the integrals commonly encountered in physical chemistry (at least not easily), instead we often need to make extensive use of [tables](https://dlmf.nist.gov/4.10) of [standard](https://dlmf.nist.gov/4.26) [integrals](https://dlmf.nist.gov/4.40) to get analytical solutions. \n",
    "\n",
    "An alternative approach is to instead look for approximate solutions to our integrals using numerical methods. Since this workshop is all about using Python, that is the approach we shall take here.  "
   ]
  },
  {
   "cell_type": "markdown",
   "metadata": {},
   "source": [
    "### The theory behind numerical integration\n",
    "When we solve a definite integral we are calculating the area under a curve. To achieve this numerically we are going to perform a Reimann sum (named after 19th century German mathematician [Bernhard Riemann](https://en.wikipedia.org/wiki/Bernhard_Riemann)). In this approximation, we partition (<i>i.e.</i> split) the region under the curve into a series of regular shapes - <i>e.g.</i> rectangles or trapezoids - that together approximate the shape of the curve. We then calculate the area of each of these individual shapes, and finally add all of these areas together to approximate the total area under the curve. \n",
    "\n",
    "The accuracy of this approximation is increased by partitioning the area under the curve more finely. For example, the figure below shows the effect of dividing the area under the red curve into 10, 20, 40, and 80 rectangular regions (grey)."
   ]
  },
  {
   "cell_type": "markdown",
   "metadata": {},
   "source": [
    "<img src=\"./STUFF/NumIntRegions.png\" width=\"700\">"
   ]
  },
  {
   "cell_type": "markdown",
   "metadata": {},
   "source": [
    "### How will our numerical integration algorithm work?\n",
    "From the background information presented above, you will hopefully already have some ideas about how to write code capable of numerically integrating a mathematical function. As with all coding, there are several ways we can achieve this. \n",
    "\n",
    "To begin with we shall keep things as simple as possible, and divide our integration region into a series of $N$ rectangles, all of which are of equal width (which we shall call $h$). Further, the rectangles will make contact with the curve on their left-hand side (the so-called left Riemann sum), as illustrated in the above diagram. We can break our integration code down into a series of steps\n",
    "\n",
    "1. Define our mathematical function $f(x)$  using Python\n",
    "2. Partition the integration region into $N$ pieces, each of width $h$ <img src=\"./STUFF/NumIntAlgorithm_Step2.png\" width=\"350\">\n",
    "3. Evaluate $f(a)$ (*e.g.* $f(x)$ evaluated at $x=a$) and calculate the area of the first rectangle - $Area(1)=f(a)\\cdot h$ <img src=\"./STUFF/NumIntAlgorithm_Step3.png\" width=\"350\">\n",
    "4. Evaluate $f(a+h)$ and calculate the area of the second rectangle - $Area(2)=f(a+h)\\cdot h$ <img src=\"./STUFF/NumIntAlgorithm_Step4.png\" width=\"350\">\n",
    "5. Keep moving along the $x$-axis until the area of all $N$ rectangles have been calculated <img src=\"./STUFF/NumIntAlgorithm_Step5.png\" width=\"350\">\n",
    "6. Cacluate the total area:\n",
    "\n",
    "$$\\textrm{Total Area}=\\sum_{n=1}^{N}\\textrm{Area}(n)\\approx\\int_{a}^{b}f(x)\\,\\mathrm{d}x$$\n",
    "\n",
    "\n"
   ]
  },
  {
   "cell_type": "markdown",
   "metadata": {},
   "source": [
    "### Putting it into practice\n",
    "As an example problem, we shall use Python to numerically evaluate the following integral:\n",
    "\n",
    "$$\\int_{-1.5}^{2}\\left(x^{4}-3x^{2}\\right)\\,\\textrm{d}x$$\n",
    "\n",
    "That is, find the area of the grey shaded region in the plot below:\n",
    "<img src=\"./STUFF/IntegralFunc.png\" width=\"600\">\n",
    "    \n",
    "If our code works correctly, it should return an answer close to the analytical (<i>i.e.</i> exact) value of -3.45625. \n",
    "\n",
    "### Step 1: Define the mathematical function in Python"
   ]
  },
  {
   "cell_type": "markdown",
   "metadata": {},
   "source": [
    "<div class=warn>\n",
    "\n",
    "### <font>Task 3:</font>\n",
    "Write a Python function ``OurFunc(x)``, which when provided with a value for $x$ returns $f(x)= x^{4}-3x^{2}$. If you are unsure how to do this, look at how the function ``x_pwr4()`` was defined in section 1.\n",
    "\n",
    "Test your code using $x=0.5$, which should return a value of $f(0.5)=-0.6875$"
   ]
  },
  {
   "cell_type": "code",
   "execution_count": 12,
   "metadata": {},
   "outputs": [
    {
     "data": {
      "text/plain": [
       "-0.6875"
      ]
     },
     "execution_count": 12,
     "metadata": {},
     "output_type": "execute_result"
    }
   ],
   "source": [
    "#TASK 3 SOLUTION\n",
    "def OurFunc(x):\n",
    "    return x**4-3*x**2\n",
    "\n",
    "OurFunc(0.5)"
   ]
  },
  {
   "cell_type": "markdown",
   "metadata": {},
   "source": [
    "### Step 2: Partition the integration region into $N$ pieces, each of width $h$\n",
    "To make our code as flexible as possible, we are going to allow the user to define the limits of the integration region ($a$ and $b$) and the number of rectangles used to approximate the integral. Using these three values as inputs, the width of each rectangle, $h$, can be calculated as:\n",
    "$$h=\\frac{b-a}{N}$$"
   ]
  },
  {
   "cell_type": "markdown",
   "metadata": {},
   "source": [
    "<div class=warn>\n",
    "\n",
    "### <font>Task 4:</font>\n",
    "Write a Python function ``Partition(a,b,N)``, which will divide the region between $a$ and $b$ into $N$ equal width sections, and return the width $h$ of each section\n",
    "\n",
    "Test your code using $a=-5$, $b=-2$, and $N=8$ which should return a value of $h=0.375$  (*i.e.* when you type ``Partition(-5, -2, 8)`` into a code cell, it will output a value of 0.375) "
   ]
  },
  {
   "cell_type": "code",
   "execution_count": 13,
   "metadata": {},
   "outputs": [
    {
     "data": {
      "text/plain": [
       "0.375"
      ]
     },
     "execution_count": 13,
     "metadata": {},
     "output_type": "execute_result"
    }
   ],
   "source": [
    "#TASK 4 ANSWER:\n",
    "def Partition(a,b,N):\n",
    "    return (b-a)/N\n",
    "\n",
    "\n",
    "Partition(-5,-2,8)"
   ]
  },
  {
   "cell_type": "markdown",
   "metadata": {},
   "source": [
    "### Steps 3-5: Calculate and store the areas of the rectangles - the tedious way!\n",
    "The easiest way to do this is to explicitly calculate the area of each rectangle in turn. For instance, we could run the following code...\n",
    "```python\n",
    "#Define the integration limits (a & b) and the number of partitions N\n",
    "a=-1.5\n",
    "b=2\n",
    "N=5\n",
    "\n",
    "#Divide the integration region into 5 regions between -1.5 and 2, and calculate the width of each section\n",
    "h=Partition(a, b, N)\n",
    "\n",
    "#Area of rectangle 1 = f(a)*h\n",
    "Area1=OurFunc(a)*h\n",
    "\n",
    "#Area of rectangle 2 = f(a+h)*h\n",
    "Area2=OurFunc(a+h)*h\n",
    "\n",
    "#Area of rectangle 3 = f(a+2h)*h\n",
    "Area3=OurFunc(a+2*h)*h\n",
    "\n",
    "#Area of rectangle 4 = f(a+3h)*h\n",
    "Area4=OurFunc(a+3*h)*h\n",
    "\n",
    "#Area of rectangle 5 = f(a+4h)*h\n",
    "Area5=OurFunc(a+4*h)*h\n",
    "\n",
    "#Sum the rectangle areas to yield the total area\n",
    "TotalArea=Area1+Area2+Area3+Area4+Area5\n",
    "\n",
    "print(TotalArea)\n",
    "```\n",
    "Provided your ``OurFunc(x)`` and ``Partition(a,b,N)`` functions are defined correctly, this approach will work. Unfortunately the answer returned will be  hugely inaccurate (the above code returns a value of -4.47446... for our integral - run it in a code cell to see for yourself). This is because the accuracy of the numerical integration method increases as the value of $N$ becomes larger. \n",
    "\n",
    "### Steps 3-5: Calculate and store the areas of the rectangles - the lazy persons way!\n",
    "While we could simply extend the above method to use more regions, and hence obtain a more accurate result, it makes more sense to use a loop and automate things (really, the whole point of coding is to automate tedious/complicated things). Our task, therefore, is to take what we have done above and turn it into a loop.\n",
    "\n",
    "In the above code, we see that we repeatedly make use of the ``OurFunc(x)`` function, each time calling it with a different value for $x$, therefore we need to write a loop which will automatically increase $x$ by the value of $h$ on each pass, and then calculate and store the area of each rectangle.   "
   ]
  },
  {
   "cell_type": "markdown",
   "metadata": {},
   "source": [
    "<div class=warn>\n",
    "\n",
    "### <font>Task 5:</font>\n",
    "The code below is currently incomplete. Finish the loop structure to make it work. Don't forget to include the range you want to run the loop over, and finish the return statement so as to output the total area. \n",
    "\n",
    "<b>(i)</b> Check your code by calling ``Integrate(-1.5, 2, 5)`` which will return a value of -4.47446... if it is working correctly.  \n",
    "\n",
    "<b>(ii)</b> Calculate the value of the numerical integral when the area under the curve is divided into 5000 regions\n",
    "\n",
    "<b>Useful commands</b>:\n",
    "\n",
    "<code>arrayName[i]=someValue</code> - stores the value ``someValue`` (can be a number or a string) in the array ``arrayName`` at position ``i`` \n",
    "    \n",
    "<code>np.sum(arrayName)</code> - returns the sum of all elements of the array ``arrayname``\n"
   ]
  },
  {
   "cell_type": "code",
   "execution_count": 42,
   "metadata": {},
   "outputs": [
    {
     "name": "stdout",
     "output_type": "stream",
     "text": [
      "Numerical area returned using 5 partitions = -4.47447\n",
      "Mumerical area returned using 5000 partitions =  -3.45824\n"
     ]
    }
   ],
   "source": [
    "#TASK 5 ANSWER:\n",
    "#Finish the loop in the code below\n",
    "\n",
    "def Integrate(a,b,N):\n",
    "    #Calculate the width of each rectangle\n",
    "    h=Partition(a,b,N)\n",
    "    \n",
    "    #prepare a numpy array of length N for storage of individual rectangle areas - each element initially \n",
    "    #has a value of 0, which needs to be replaced by the calculated areas using area[i]=calculatedValue\n",
    "    area=np.zeros(N)\n",
    "    \n",
    "    #Calulates the area of each of the N rectangles, and stores them in the preprepared array \n",
    "    for i in range(N):\n",
    "        x=a+i*h\n",
    "        area[i]=OurFunc(x)*h \n",
    "    \n",
    "    #np.sum(array) adds up all the elements of an array - therefore provides the total area\n",
    "    return np.sum(area)\n",
    "print(\"Numerical area returned using 5 partitions =\",np.around(Integrate(-1.5,2,5),decimals=5))\n",
    "print(\"Mumerical area returned using 5000 partitions = \", np.around(Integrate(-1.5,2,5000),decimals=5))\n"
   ]
  },
  {
   "cell_type": "markdown",
   "metadata": {},
   "source": [
    "### How can we improve our algorithm?\n",
    "The algorithm we have just written is by no means the only way we can numerically integrate functions. While it has the advantage of being very simple, our algorithm requires that we partition our integration regions into a large number of regions in order to produce an accurate result (in the current problem, <i>ca.</i> 3000 regions are needed before the answer in within 0.1% of the true value). There are several other algorithms we could use, and many of these converge far more rapidly - <i>i.e.</i> they don't require the integration region to be divided into as many regions to return an accurate value.\n",
    "\n",
    "Three examples of enhanced numerical integration algorithms are the [midpoint rule](https://en.wikipedia.org/wiki/Riemann_sum#Midpoint_rule), [Trapezoidal rule](https://en.wikipedia.org/wiki/Trapezoidal_rule), and [Simpson's rule](https://en.wikipedia.org/wiki/Simpson%27s_rule). As can be seen in the plot below, for our problem they all converge on the correct answer far more rapidly than the left Reimann sum. The numerical integration code we wrote above can be easily adapted to perform a midpoint rule or trapezoidal rule integration, and implementation of Simpson's rule is only slightly more challenging.\n",
    "\n",
    "<img src=\"./STUFF/NumIntMethodComparison.png\" width=\"800\">"
   ]
  },
  {
   "cell_type": "markdown",
   "metadata": {},
   "source": [
    "<div class=warn>\n",
    "\n",
    "### <font>Homework task 1</font>\n",
    "Adapt the numerical integration code to perform midpoint rule integration and trapezoid rule integration of our function.\n",
    "\n",
    "As an extra challenge, see if you can write code capable of performing a Simpson's rule integration.\n",
    "\n",
    "<b>Note</b>: N must be even for Simson's rule to work\n",
    "\n",
    "### Code checking\n",
    "If your codes are correct, setting ``a=-1.5``, ``b=2``, and ``N=32`` should produce the following values (recall that the analytical solution is -3.45625 exactly):</p>\n",
    "Midpoint rule: -3.46844...<br>\n",
    "Trapezoidal rule: -3.43184... <br>\n",
    "Simpson's rule: -3.45618...</p>"
   ]
  },
  {
   "cell_type": "code",
   "execution_count": 44,
   "metadata": {},
   "outputs": [
    {
     "name": "stdout",
     "output_type": "stream",
     "text": [
      "Midpoint rule result = -3.46845\n",
      "Trapezoidal rule result = -3.43184\n",
      "Simpson's rule result = -3.45618\n"
     ]
    }
   ],
   "source": [
    "#HOMEWORK TASK 1 ANSWER:\n",
    "\n",
    "#Midpoint rule\n",
    "def MidReiSum(a,b,N):\n",
    "    #Calculate the width of each rectangle\n",
    "    h=Partition(a,b,N)\n",
    "    \n",
    "    #prepare a numpy array of length N for storage of individual rectangle areas - each element initially \n",
    "    #has a value of 0, which needs to be replaced by the calculated areas using area[i]=calculatedValue\n",
    "    area=np.zeros(N)\n",
    "    \n",
    "    #Calulates the area of each of the N rectangles, and stores them in the preprepared array \n",
    "    for i in range(N):\n",
    "        #x=a+(i+0.5)*h\n",
    "        area[i]=OurFunc(a+(i+0.5)*h)*h \n",
    "    \n",
    "    #np.sum(array) adds up all the elements of an array - therefore provides the total area\n",
    "    return np.sum(area)\n",
    "\n",
    "# Trapezoidal rule\n",
    "def TrapSum(a,b,N):\n",
    "    #Calculate the width of each rectangle\n",
    "    h=Partition(a,b,N)\n",
    "    \n",
    "    #prepare a numpy array of length N for storage of individual rectangle areas - each element initially \n",
    "    #has a value of 0, which needs to be replaced by the calculated areas using area[i]=calculatedValue\n",
    "    area=np.zeros(N)\n",
    "    \n",
    "    for i in range(N):\n",
    "        x_1=a+i*h\n",
    "        x_2=a+((i+1)*h)\n",
    "        area[i]=h*((OurFunc(x_1)+OurFunc(x_2))/2)\n",
    "        \n",
    "    #np.sum(array) adds up all the elements of an array - therefore provides the total area\n",
    "    return np.sum(area)\n",
    "\n",
    "#Simpson's rule\n",
    "def SimpsRule(a,b,N):\n",
    "    #Calculate the width of each rectangle\n",
    "    h=Partition(a,b,N)\n",
    "    \n",
    "    #prepare a numpy array of length N for storage of individual rectangle areas - each element initially \n",
    "    #has a value of 0, which needs to be replaced by the calculated areas using area[i]=calculatedValue\n",
    "    area=np.zeros(N)\n",
    "    \n",
    "    #Simpsons rule requires that N be even\n",
    "    i=1\n",
    "    while i < N:\n",
    "        area[i]=h/3*((OurFunc(a+(i-1)*h))+(4*OurFunc(a+(i)*h))+(OurFunc(a+(i+1)*h)))\n",
    "        i+=2\n",
    "    #np.sum(array) adds up all the elements of an array - therefore provides the total area\n",
    "    return np.sum(area)\n",
    "\n",
    "print('Midpoint rule result =',np.around(MidReiSum(-1.5,2,32),decimals=5))\n",
    "print('Trapezoidal rule result =', np.around(TrapSum(-1.5,2,32),decimals=5))\n",
    "print(\"Simpson's rule result =\", np.around(SimpsRule(-1.5,2,32),decimals=5))\n"
   ]
  },
  {
   "cell_type": "markdown",
   "metadata": {},
   "source": [
    "## 3. Solving Differential Equations Numerically\n",
    "The final numerical approximation method we shall discuss is the forward Euler method for solving differential equations. This was first reported in 1768 by [Leonhard Euler](https://en.wikipedia.org/wiki/Leonhard_Euler) and is the simplest numerical method for solving first-order differential equations (<i>i.e.</i> we don't ever need to calculate the analytical solution) with given intitial values.\n",
    "\n",
    "### The theory\n",
    "A general first-order differential equation can be written in the form:\n",
    "    $$\\frac{\\mathrm{d}y}{\\mathrm{d}x}=f(x,y)$$\n",
    "    \n",
    "There are an infinite number of solutions to this differential equation depending upon the initial values of $x$ and $y$. In order to determine a <i>specific solution</i>, we also need to specify these <i>initial values</i>:\n",
    "    $$y(x_{0})=y_{0}$$\n",
    "\n",
    "Once we have these initial values ($x_{0},\\,y_{0}$), we can use an iterative procedure to generate all subsequent ($x_{n},\\,y_{n}$) pairs:\n",
    "   $$\\begin{align*}\n",
    "            x_{n+1}&=x_{n}+h\\\\\n",
    "            y_{n+1}&=y_{n}+hf(x_{n},y_{n})\n",
    "       \\end{align*}$$\n",
    "       \n",
    "where, as with the numerical differentiation and integration examples above, the parameter $h$ is a user-defined step size which plays a crucial role in the overall accuracy of the method. \n",
    "\n",
    "The [derivation of this result](http://calculuslab.deltacollege.edu/ODE/7-C-1/7-C-1-h-a.html) isn't terribly important to us, but is fairly easy to understand and well worth looking at when you have the time.\n",
    "### The algorithm\n",
    "We are going to use the forward Euler method to investigate the time-dependent concentrations of molecular species in a typical first-order kinetic scheme:\n",
    "$$A\\xrightarrow{k} B$$\n",
    "\n",
    "where $A$ and $B$ are the reactant and product, respectively, and $k$ is the first-order rate coefficient.\n",
    "\n",
    "Assuming the initial population of species $B$ is zero initially, the two differential equations describing the evolution of $[A]$ and $[B]$ are:\n",
    "    $$\\begin{align*}\n",
    "        \\frac{\\mathrm{d}[A]}{\\mathrm{d}t}&=-k[A]\\\\[6pt]\n",
    "        \\frac{\\mathrm{d}[B]}{\\mathrm{d}t}&=k[A]\n",
    "    \\end{align*}$$\n",
    "    \n",
    "Which have analytical solutions:\n",
    "    $$\\begin{align*}\n",
    "        [A]_{t}&=[A]_{0}e^{-kt}\\\\[6pt]\n",
    "        [B]_{t}&=[A]_{0}\\left(1-e^{-kt}\\right)\n",
    "        \\end{align*}$$ \n",
    "        \n",
    "For our example problem, we shall set $[A]_{0}=5\\textrm{ mol dm}^{-3}$ and $k=0.8\\textrm{ s}^{-1}$, and if everything works correctly, our numerical algorithm should return values for the time dependent concentrations of $[A]$ and $[B]$ which sit on the following curves:\n",
    "<img src=\"./STUFF/TimeDepConc.png\" width=\"800\">\n"
   ]
  },
  {
   "cell_type": "markdown",
   "metadata": {},
   "source": [
    "### Step 1: Define the differential equations in python\n",
    "The first step is to define our two differential equations describing the time-dependent populations of $A$ and $B$ using python. For the differential equation modelling the rate of change of $[A]$ with respect to time $\\left(\\frac{\\mathrm{d}[A]}{\\mathrm{d}t}=-k[A]\\right)$, we can write the following function:"
   ]
  },
  {
   "cell_type": "code",
   "execution_count": 16,
   "metadata": {},
   "outputs": [],
   "source": [
    "#TIME DEPENDENT CONCENTRATION OF SPECIES A\n",
    "#Note that the populations of A and B only depend upon a single variable ([A]), and not upon the variables [B] or t. \n",
    "#Therefore f(t, [A], [B])=f([A])\n",
    "\n",
    "#d[A]/dt=-k[A]\n",
    "def dA_dt(A):\n",
    "    return -k*A #the value of k will be defined elsewhere in the code"
   ]
  },
  {
   "cell_type": "markdown",
   "metadata": {},
   "source": [
    "<div class=warn>\n",
    "\n",
    "### <font>Task 6:</font>\n",
    "Write a python function ``dB_dt(A)`` describing the differential equation controlling $[B]_{t}$"
   ]
  },
  {
   "cell_type": "code",
   "execution_count": 17,
   "metadata": {},
   "outputs": [],
   "source": [
    "#TASK 6 ANSWER:\n",
    "\n",
    "#d[B]/dt=k[A]\n",
    "def dB_dt(A):\n",
    "    return k*A #the value of k will be defined elsewhere in the code"
   ]
  },
  {
   "cell_type": "markdown",
   "metadata": {},
   "source": [
    "### Step 2: Define the initial values, and set up lists for storage of $t$, $[A]_{t}$, and $[B]_{t}$ values\n",
    "Because we are solving these differential equations in an iterative manner, we need to store the returned values of $t$, $[A]_{t}$, and $[B]_{t}$ at each time step. Lists provide us with a convenient method of doing this. \n",
    "\n",
    "We shall begin by creating three lists (``concA``, ``concB``, and ``t_step``), each with a single number. These three numbers define our initial values ($[A]_{0}=5$, $[B]_{0}=$, and $t_{0}=0$):"
   ]
  },
  {
   "cell_type": "code",
   "execution_count": 18,
   "metadata": {},
   "outputs": [],
   "source": [
    "#INITIALISE LISTS FOR STORAGE OF t, [A]_t, [B]_t - NOTE: THIS MUST BE RUN EACH TIME!\n",
    "concA=[5]\n",
    "concB=[0]\n",
    "t_step=[0]"
   ]
  },
  {
   "cell_type": "markdown",
   "metadata": {},
   "source": [
    "Every iteration of our code will generate new values for $t$, $[A]$, and $[B]$, therefore we will need to add these values to the ends of their respective lists. This can be achieved using the code:\n",
    "```python\n",
    "listName.append(value)\n",
    "```\n",
    "where 'listName' is the name of your list (<i>i.e.</i> t_step, concA, or concB), and 'value' is the number you are adding to the end.\n",
    "\n",
    "### Step 3: Iterate through the algorithm and store the values - the tedious way!\n",
    "Using the forward Euler algorithm outlined above, we can calculate and store the second set of $t$ and $[X]$ values:\n",
    "\n",
    "#### (i) $t$\n",
    "The value of $t$ is increased by our chosen step size $h$ (<i>i.e.</i>, $t\\rightarrow t+h$). Our initial value for $t$ is stored as the first element of the list 't_step' (<i>i.e.</i>,``t_step[0]``), therefore we create and store the second value for $t$ using\n",
    "```python\n",
    "t_step.append(t_step[0]+h)\n",
    "```\n",
    "\n",
    "#### (ii) $[A]$\n",
    "The forward Euler algorithm tells us that\n",
    "    $$[A]_{n+1}=[A]_{n}+h\\cdot f(t_{n},[A]_{n})$$\n",
    "\n",
    "where the function $f(t_{n},[A]_{n})=-k[A]_{n}$ has previously been defined as ``dA_dt(A)``. Therefore the second value for $[A]_{t}$ is created and stored using\n",
    "```python\n",
    "concA.append(concA[0]+h*dA_dt(concA[0]))\n",
    "```\n",
    "\n",
    "#### (iii) $[B]$\n",
    "Similarly, the second value for $[B]_{t}$ is calculated and stored using the code\n",
    "```python\n",
    "concB.append(concB[0]+h*dB_dt(concA[0]))\n",
    "```\n",
    "\n",
    "We could calculate each iteration of the Euler algorithm this way using code such as that below (where we have chosen a step size of $h=1\\textrm{ s}$):\n",
    "```python\n",
    "#Define the value of the rate coefficient (k), and the step size (h)\n",
    "k=0.8 #units = s^-1\n",
    "h=1.0 #units = s\n",
    "\n",
    "#First iteration: t=1.0 s\n",
    "t_step.append(t_step[0]+h)\n",
    "concA.append(concA[0]+h*dA_dt(concA[0]))\n",
    "concB.append(concB[0]+h*dB_dt(concA[0]))\n",
    "\n",
    "#Second iteration: t=2.0 s\n",
    "t_step.append(t_step[1]+h)\n",
    "concA.append(concA[1]+h*dA_dt(concA[1]))\n",
    "concB.append(concB[1]+h*dB_dt(concA[1]))\n",
    "\n",
    "#Third iteration: t=3.0 s\n",
    "t_step.append(t_step[2]+h)\n",
    "concA.append(concA[2]+h*dA_dt(concA[2]))\n",
    "concB.append(concB[2]+h*dB_dt(concA[2]))\n",
    "\n",
    "#Fourth iteration: t=4.0 s\n",
    "t_step.append(t_step[3]+h)\n",
    "concA.append(concA[3]+h*dA_dt(concA[3]))\n",
    "concB.append(concB[3]+h*dB_dt(concA[3]))\n",
    "\n",
    "#Final iteration: t=5.0 s\n",
    "t_step.append(t_step[4]+h)\n",
    "concA.append(concA[4]+h*dA_dt(concA[4]))\n",
    "concB.append(concB[4]+h*dB_dt(concA[4]))\n",
    "\n",
    "```\n",
    "The results from this code are plotted below (as points) and compared to the true analytical solutions (lines) \n",
    "<img src=\"./STUFF/EulerLargeStep.png\" width=\"800\">"
   ]
  },
  {
   "cell_type": "markdown",
   "metadata": {},
   "source": [
    "### Step 3: Iterate through the algorithm and store the values - the lazy persons way!\n",
    "Loops, the answer is loops.\n",
    "\n",
    "As with all the numerical methods covered in this workshop, the choice of step size is critical to the accuracy of the approach. The choice of $h=1$s made above is too large to get satisfactory results, so we need to reduce it. Rather than calculate each iteration by hand, we should also include a loop in our code."
   ]
  },
  {
   "cell_type": "markdown",
   "metadata": {},
   "source": [
    "<div class=warn>\n",
    "\n",
    "### <font>Task 7:</font>\n",
    "Use the forward Euler algorithm to numerically model our system over the time range $0\\textrm{ s}\\leq t \\leq5\\textrm{ s}$ using a step size of $h=0.05$s. \n",
    "\n",
    "Plot the results, and compare them to the analytical solutions. If your code works correctly, your plot should look like:\n",
    "<img src=\"./STUFF/EulerTask.png\" width=\"600\">"
   ]
  },
  {
   "cell_type": "code",
   "execution_count": 19,
   "metadata": {},
   "outputs": [
    {
     "data": {
      "image/png": "[encoded data removed]",
      "text/plain": [
       "<Figure size 720x432 with 1 Axes>"
      ]
     },
     "metadata": {
      "needs_background": "light"
     },
     "output_type": "display_data"
    }
   ],
   "source": [
    "#TASK 7 ANSWER:\n",
    "#REINITIALISE LISTS FOR STORAGE OF t, [A]_t, [B]_t - NOTE: THIS MUST BE RUN EACH TIME!\n",
    "concA=[5]\n",
    "concB=[0]\n",
    "t_step=[0]\n",
    "\n",
    "k=0.8 #units = s^-1\n",
    "h=0.05 #units = s\n",
    "\n",
    "#Loop implementing Euler algorithm\n",
    "for i in range(100):\n",
    "    t_step.append(t_step[i]+h)\n",
    "    concA.append(concA[i]+h*dA_dt(concA[i]))\n",
    "    concB.append(concB[i]+h*dB_dt(concA[i]))\n",
    "\n",
    "#Plot the results\n",
    "plt.figure(figsize=(10,6))\n",
    "\n",
    "#Numerical results\n",
    "plt.scatter(t_step,concA,c='#D9514E')\n",
    "plt.scatter(t_step,concB,c='#2A2B2D')\n",
    "\n",
    "#Analytical results\n",
    "t=np.linspace(0,5,128)\n",
    "A=5*np.exp(-0.8*t)\n",
    "B=5*(1-np.exp(-0.8*t))\n",
    "\n",
    "plt.plot(t,A,c='#D9514E',lw=3,label='$[A]_{t}$')\n",
    "plt.plot(t,B,c='#2A2B2D',lw=3,label='$[B]_{t}$')\n",
    "\n",
    "#Make the plot pretty\n",
    "plt.ylabel('Concentration / mol dm$^{-3}$',fontsize=22)\n",
    "plt.xlabel('Time / s',fontsize=22)\n",
    "plt.grid(linestyle='dotted',c='0.7')\n",
    "plt.legend(frameon=False,fontsize=18)\n",
    "plt.tick_params(labelsize=18)\n",
    "plt.show()"
   ]
  },
  {
   "cell_type": "markdown",
   "metadata": {},
   "source": [
    "<div class=warn>\n",
    "\n",
    "### <font>Homework task 2:</font>\n",
    "Use the forward Euler algorithm to model the follwing kinetic scheme:\n",
    "$$A\\xrightarrow{k_{1}} B\\xrightarrow{k_{2}}C$$\n",
    "\n",
    "Assuming the initial populations of species $B$ and $C$ are zero initially, the three differential equations describing $[A]_{t}$, $[B]_{t}$, and $[C]_{t}$ are:\n",
    "    $$\\begin{align*}\n",
    "        \\frac{\\mathrm{d}[A]}{\\mathrm{d}t}&=-k_{1}[A]\\\\[6pt]\n",
    "        \\frac{\\mathrm{d}[B]}{\\mathrm{d}t}&=k_{1}[A]-k_{2}[B]\\\\[6pt]\n",
    "        \\frac{\\mathrm{d}[C]}{\\mathrm{d}t}&=k_{2}[B]\n",
    "    \\end{align*}$$\n",
    "\n",
    "Plot the time-dependent concentrations of $[A]$, $[B]$, and $[C]$ over the time range $0\\textrm{ ns}\\leq t \\leq10\\textrm{ ns}$, using the following parameters:\n",
    "* $[A]_{0}=2\\textrm{ mol dm}^{-3}$; $[B]_{0}=[C]_{0}=0\\textrm{ mol dm}^{-3}$\n",
    "* $k_{1}=3.0 \\textrm{ ns}^{-1}$\n",
    "* $k_{2}=0.4 \\textrm{ ns}^{-1}$\n",
    "* $h=0.1\\textrm{ ns}$\n",
    "\n",
    "Compare your results to the analytical solutions: \n",
    "    $$\\begin{align*}\n",
    "        [A]_{t}&=[A]_{0}e^{-k_{1}t}\\\\[6pt]\n",
    "        [B]_{t}&=[A]_{0}\\frac{k_{1}}{k_{2}-k_{1}}\\left(e^{-k_{1}t}-e^{-k_{2}t}\\right)\\\\[6pt]\n",
    "        [C]_{t}&=[A]_{0}\\left(1+\\frac{k_{1}e^{-k_{2}t}-k_{2}e^{-k_{1}t}}{k_{2}-k_{1}}\\right)\n",
    "        \\end{align*}$$ \n",
    "        "
   ]
  },
  {
   "cell_type": "code",
   "execution_count": 46,
   "metadata": {},
   "outputs": [
    {
     "data": {
      "image/png": "[encoded data removed]",
      "text/plain": [
       "<Figure size 720x432 with 1 Axes>"
      ]
     },
     "metadata": {
      "needs_background": "light"
     },
     "output_type": "display_data"
    }
   ],
   "source": [
    "#HOMEWORK TASK 2 ANSWER:\n",
    "\n",
    "#Define three differential equations d[A]/dt, d[B]/dt and d[C]/dt. Use prefix HT2 to distinguish functions \n",
    "#from those defined for the earlier problem\n",
    "def HT2_dA_dt(A):\n",
    "    return -k1*A\n",
    "\n",
    "def HT2_dB_dt(A,B):\n",
    "    return (k1*A)-(k2*B)\n",
    "\n",
    "def HT2_dC_dt(B):\n",
    "    return k2*B\n",
    "\n",
    "#Set up lists for storage of concentrations and times, initial concentrations A0=1, B0=C0=0\n",
    "t_step=[0]\n",
    "HT2_concA=[2]\n",
    "HT2_concB=[0]\n",
    "HT2_concC=[0]\n",
    "\n",
    "#set rate coefficients and timestep\n",
    "k1=3 #units = ns^-1\n",
    "k2=0.4 #units = ns^-1\n",
    "h=0.1 #units = ns\n",
    "\n",
    "#Loop implementing Euler algorithm\n",
    "for i in range(100):\n",
    "    t_step.append(t_step[i]+h)\n",
    "    HT2_concA.append(HT2_concA[i]+h*HT2_dA_dt(HT2_concA[i]))\n",
    "    HT2_concB.append(HT2_concB[i]+h*HT2_dB_dt(HT2_concA[i],HT2_concB[i]))\n",
    "    HT2_concC.append(HT2_concC[i]+h*HT2_dC_dt(HT2_concB[i]))\n",
    "\n",
    "#Plot the results\n",
    "plt.figure(figsize=(10,6))\n",
    "\n",
    "#Numerical results\n",
    "plt.scatter(t_step,concA,c='#D9514E')\n",
    "plt.scatter(t_step,concB,c='#2A2B2D')\n",
    "plt.scatter(t_step,concC,c='#2DA8D8')\n",
    "\n",
    "#Analytical solutions\n",
    "t=np.linspace(0,10,128)\n",
    "A_t=concA[0]*(np.exp(-k1*t))\n",
    "B_t=concA[0]*((k1/(k2-k1))*(np.exp(-k1*t)-np.exp(-k2*t)))\n",
    "C_t=concA[0]*(1+(k1*np.exp(-k2*t)-k2*np.exp(-k1*t))/(k2-k1))\n",
    "\n",
    "plt.plot(t,A_t,c='#D9514E',lw=3,label='$[A]_{t}$')\n",
    "plt.plot(t,B_t,c='#2A2B2D',lw=3,label='$[B]_{t}$')\n",
    "plt.plot(t,C_t,c='#2DA8D8',lw=3,label='$[C]_{t}$')\n",
    "\n",
    "#Make the plot pretty\n",
    "plt.ylabel('Concentration / mol dm$^{-3}$',fontsize=22)\n",
    "plt.xlabel('Time / ns',fontsize=22)\n",
    "plt.grid(linestyle='dotted',c='0.7')\n",
    "plt.legend(frameon=False,fontsize=18)\n",
    "plt.tick_params(labelsize=18)\n",
    "plt.show()"
   ]
  },
  {
   "cell_type": "code",
   "execution_count": null,
   "metadata": {},
   "outputs": [],
   "source": []
  }
 ],
 "metadata": {
  "kernelspec": {
   "display_name": "Python 3",
   "language": "python",
   "name": "python3"
  },
  "language_info": {
   "codemirror_mode": {
    "name": "ipython",
    "version": 3
   },
   "file_extension": ".py",
   "mimetype": "text/x-python",
   "name": "python",
   "nbconvert_exporter": "python",
   "pygments_lexer": "ipython3",
   "version": "3.6.8"
  }
 },
 "nbformat": 4,
 "nbformat_minor": 4
}
