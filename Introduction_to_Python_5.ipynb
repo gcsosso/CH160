{
 "cells": [
  {
   "cell_type": "code",
   "execution_count": 1,
   "metadata": {},
   "outputs": [
    {
     "data": {
      "text/html": [
       "<script>\n",
       "code_show=true; \n",
       "function code_toggle() {\n",
       "    if (code_show){\n",
       "        $('div.cell.code_cell.rendered.selected div.input').hide();\n",
       "    } else {\n",
       "        $('div.cell.code_cell.rendered.selected div.input').show();\n",
       "    }\n",
       "    code_show = !code_show\n",
       "} \n",
       "$( document ).ready(code_toggle);\n",
       "</script>\n",
       "Some hidden code... to show/hide this cell's raw code input, click (or double click if stubborn!) <a href=\"javascript:code_toggle()\">here</a>."
      ],
      "text/plain": [
       "<IPython.core.display.HTML object>"
      ]
     },
     "metadata": {},
     "output_type": "display_data"
    },
    {
     "data": {
      "text/html": [
       "<style>\n",
       "div.warn {    \n",
       "    background-color: #b3b3ff;\n",
       "    border-color: #0000b3;\n",
       "    border-left: 5px solid #0000b3;\n",
       "    padding: 0.5em;\n",
       "    }\n",
       " </style>\n"
      ],
      "text/plain": [
       "<IPython.core.display.HTML object>"
      ]
     },
     "execution_count": 1,
     "metadata": {},
     "output_type": "execute_result"
    }
   ],
   "source": [
    "from IPython.display import HTML\n",
    "from IPython.display import display\n",
    "\n",
    "# Taken from https://stackoverflow.com/questions/31517194/how-to-hide-one-specific-cell-input-or-output-in-ipython-notebook\n",
    "tag = HTML('''<script>\n",
    "code_show=true; \n",
    "function code_toggle() {\n",
    "    if (code_show){\n",
    "        $('div.cell.code_cell.rendered.selected div.input').hide();\n",
    "    } else {\n",
    "        $('div.cell.code_cell.rendered.selected div.input').show();\n",
    "    }\n",
    "    code_show = !code_show\n",
    "} \n",
    "$( document ).ready(code_toggle);\n",
    "</script>\n",
    "Some hidden code... to show/hide this cell's raw code input, click (or double click if stubborn!) <a href=\"javascript:code_toggle()\">here</a>.''')\n",
    "display(tag)\n",
    "\n",
    "############### Write code below ##################\n",
    "from IPython.core.display import HTML\n",
    "def css_styling():\n",
    "    styles = open(\"./STUFF/colors.css\", \"r\").read()\n",
    "    return HTML(styles)\n",
    "css_styling()"
   ]
  },
  {
   "cell_type": "markdown",
   "metadata": {},
   "source": [
    "<div class=warn>\n",
    "These blue boxes contain instructions for you to follow, or stuff for you to do\n",
    "<h2>How to use this Jupyter notebook</h2>\n",
    "\n",
    "* <b>Step 1</b>: Select the Jupyter Notebook you want to work on. Remember to make a copy of the orginal notebook (which is read only). To do so, in the toolbar on top of the notebook, select File and then Make a Copy <br>\n",
    "* <b>Step 2</b>: You're all set! <br>\n",
    "* <b>Step 3</b>: <font color=\"red\">When you are done, remember to click the \"Stop Server\" button in the launcher web browser tab.</font> Please do, it's really quite important. <br>\n",
    "<b> Remember: </b> You can access your copy of the Notebook at any time from any device off and on campus by going through the same steps on e.g. your laptop - all the changes you have made will be saved and synced! <br>\n",
    "<div/>"
   ]
  },
  {
   "cell_type": "markdown",
   "metadata": {},
   "source": [
    "# Workshop 5: Numerical Methods\n",
    "\n",
    "## Introduction\n",
    "\n",
    "In CH162:Mathematics for chemists you have learnt how to differentiate functions, evaluate definite integrals, and solve differential equations - techniques you will use again and again during your chemistry degree. In all cases, \n",
    "we have derived <i>analytical</i> solutions (<i>i.e.</i> the solutions are expressed in terms of a mathematcial function) to the problems at hand. Oftentimes, finding these analytical solutions can be extremely difficult, and in many cases no such analytical solution exists at all. Because of this, we often choose to approximate the solution using <i>numerical methods</i>. This final key skills workshop will teach you how to develop simple programs capable of providing us with these numerical approximations, and builds upon the techniques developed in the past four weeks, including:\n",
    "<ul>\n",
    "  <li>loop structures</li>\n",
    "  <li>defining and using functions</li>\n",
    "  <li>data plotting</li>\n",
    "</ul>\n",
    "\n",
    "### Loading the required python packages\n",
    "As with all Python programming, the first step is load all of the optional modules we will need using the ``import`` command. For this workshop we will use both the ``matplotlib.pyplot`` module, and NumPy (the fundamental Python package for scientific computing). To save having to type out their full names everytime we use them, we will give these modules their usual aliases ``plt`` (Matplotlib) and ``np`` (NumPy):"
   ]
  },
  {
   "cell_type": "code",
   "execution_count": null,
   "metadata": {},
   "outputs": [],
   "source": [
    "#IMPORT ALL THE THINGS!\n",
    "import matplotlib.pyplot as plt\n",
    "import numpy as np"
   ]
  },
  {
   "cell_type": "markdown",
   "metadata": {},
   "source": [
    "## 1. Differentiation\n",
    "To differentiate functions numerically, we make direct use of the <i>first principles definition</i> of a derivative:\n",
    "    $$ $$\n",
    "    $$f'(x)=\\lim_{h\\to 0}\\frac{f(x+h)-f(x)}{h}$$\n",
    "    $$ $$    \n",
    "where $f(x)$ and $f'(x)$ are our original function and its derivative, respectively, and $h$ is the stepsize (which we called $\\Delta x$ in the CH162:Mathematics for chemists notes). From this equation you can see that in order to calculate a derivative numerically, all we need is the defintion of the function $f(x)$ itself, and a value for the step size - numerical differentiation just requires that we are able to write functions!\n",
    "\n",
    "As a very simple example lets calculate the derivative of $y=x^{4}$ at $x=1.3$. The analytical solution $(f'(x)=4x^{3})$ tells us that the answer should be 8.788. How well will our numerical approxiation perform?\n",
    "\n",
    "### Step (i)\n",
    "\n",
    "The first step is to define our function $(f(x)=x^{4})$ using python:"
   ]
  },
  {
   "cell_type": "code",
   "execution_count": null,
   "metadata": {},
   "outputs": [],
   "source": [
    "#WRITE A PYTHON FUNCTION WHICH READS IN A VALUE (x) AND RETURNS THE VALUE x^4 \n",
    "\n",
    "def x_pwr4(x): #'x_pwr4' is called using a number (x) as an argument\n",
    "    return x**4      #and spits out the value of x raised to the fourth power (x^4)"
   ]
  },
  {
   "cell_type": "markdown",
   "metadata": {},
   "source": [
    "<div class=warn>\n",
    "\n",
    "### <font>Task 1:</font>\n",
    "Use the function ``x_pwr4()`` defined above to evaluate $x^{4}$ when $x=3.9$"
   ]
  },
  {
   "cell_type": "code",
   "execution_count": null,
   "metadata": {},
   "outputs": [],
   "source": [
    "#TASK 1 ANSWER:\n"
   ]
  },
  {
   "cell_type": "markdown",
   "metadata": {},
   "source": [
    "### Step (ii)\n",
    "\n",
    "We can now use this function to calculate the deriviative of $x^{4}$ evaluated at $x=1.3$. The only choice we have to make is what value of $h$ should we use? As a first test lets set $h=1$:"
   ]
  },
  {
   "cell_type": "code",
   "execution_count": null,
   "metadata": {},
   "outputs": [],
   "source": [
    "#NUMERICALLY CALCULATING A DERIVATIVE USING A STEP SIZE OF h=1\n",
    "\n",
    "#Define a variable 'h' which represents our step size\n",
    "h=1\n",
    "\n",
    "#Use the function 'x_pwr4()' defined above with the step size to numerically approximate the derivative\n",
    "\n",
    "(x_pwr4(1.3+h)-x_pwr4(1.3))/h #f'(x)=[f(x+h)-f(x)]/h"
   ]
  },
  {
   "cell_type": "markdown",
   "metadata": {},
   "source": [
    "Clearly this is nowhere near the correct value! What has gone wrong? \n",
    "\n",
    "The first-principles definition of a derivative is taken in the limit of $h$ approaching zero. This suggests to us that if we decrease the value of $h$ (and thus approach the limit of $h=0$), our numerical answer should become more accurate."
   ]
  },
  {
   "cell_type": "markdown",
   "metadata": {},
   "source": [
    "<div class=warn>\n",
    "\n",
    "### <font>Task 2:</font>\n",
    "Repeat the above calculation using step sizes of $h=0.1,\\,0.01,\\,0.001,\\,0.0001$, and $0.00001$. Try to include a loop in your code which allows you to get all five values from a single execution of your program, rather than running your code five separate times. "
   ]
  },
  {
   "cell_type": "code",
   "execution_count": null,
   "metadata": {},
   "outputs": [],
   "source": [
    "#TASK 2 ANSWER:\n"
   ]
  },
  {
   "cell_type": "markdown",
   "metadata": {},
   "source": [
    "As expected, as $h$ decreases, the accuracy of the result increases. <b>Note:</b> if you make $h$ too small (below $\\approx 10^{-8}$), the answer will begin to get <i>less</i> accurate - this is due to how Python handles very small numbers.\n",
    "\n",
    "The code below plots the numerical approximation (using the [Bokeh](https://bokeh.pydata.org/en/latest/) package rather than Matplotlib) for the derivative of $y=x^{4}$ over a range of <i>x</i>-values, and compares the answer to the analytical solution. By adjusting the slider beneath the plot the value of $h$ can be changed with the plot updating dynamically (you may need to execute the code cell twice)."
   ]
  },
  {
   "cell_type": "code",
   "execution_count": null,
   "metadata": {},
   "outputs": [],
   "source": [
    "#DAN SHOWING OFF HIS FANCY PLOTTING SKILLS\n",
    "\n",
    "from bokeh.plotting import figure, output_file, show\n",
    "from ipywidgets import interact,FloatSlider\n",
    "from bokeh.io import output_notebook,push_notebook\n",
    "output_notebook()\n",
    "\n",
    "def numDiff(x,h):\n",
    "    return (x_pwr4(x+h)-x_pwr4(x))/h\n",
    "\n",
    "x=np.linspace(-1.5,1.5,64)\n",
    "\n",
    "y=x_pwr4(x)\n",
    "y_diff=numDiff(x,0.51)\n",
    "\n",
    "\n",
    "fig=figure(plot_height=400,plot_width=600,y_range=(-15,15))\n",
    "fig.line(x,4*x**3,legend='4x^3',line_width=4, color='#D9514E')\n",
    "fig.xaxis.axis_label='x'\n",
    "fig.yaxis.axis_label='y'\n",
    "diff=fig.circle(x,y_diff,color='#2A2B2D',legend='Numerical approximation',size=8,alpha=0.5)\n",
    "fig.legend.location = 'top_left'\n",
    "#show(fig)\n",
    "\n",
    "def plot(h):\n",
    "    \n",
    "    diff.data_source.data['y']=numDiff(x,h)\n",
    "    push_notebook()\n",
    "    \n",
    "\n",
    "show(fig,notebook_handle=True)    \n",
    "interact(plot,h=FloatSlider(min=0.005, max=1.0,value=0.5, step=0.005,label='Step'))"
   ]
  },
  {
   "cell_type": "markdown",
   "metadata": {},
   "source": [
    "## 2. Numerical Integration"
   ]
  },
  {
   "cell_type": "markdown",
   "metadata": {},
   "source": [
    "### Integration is hard...\n",
    "\n",
    "<img src=\"./STUFF/integration_hurts_my_head.png\" width=\"700\">\n",
    "\n",
    "The methods taught to you in CH162 are not able to solve many of the integrals commonly encountered in physical chemistry (at least not easily), instead we often need to make extensive use of [tables](https://dlmf.nist.gov/4.10) of [standard](https://dlmf.nist.gov/4.26) [integrals](https://dlmf.nist.gov/4.40) to get analytical solutions. \n",
    "\n",
    "An alternative approach is to instead look for approximate solutions to our integrals using numerical methods. Since this workshop is all about using Python, that is the approach we shall take here.  "
   ]
  },
  {
   "cell_type": "markdown",
   "metadata": {},
   "source": [
    "### The theory behind numerical integration\n",
    "When we solve a definite integral we are calculating the area under a curve. To achieve this numerically we are going to perform a Reimann sum (named after 19th century German mathematician [Bernhard Riemann](https://en.wikipedia.org/wiki/Bernhard_Riemann)). In this approximation, we partition (<i>i.e.</i> split) the region under the curve into a series of regular shapes - <i>e.g.</i> rectangles or trapezoids - that together approximate the shape of the curve. We then calculate the area of each of these individual shapes, and finally add all of these areas together to approximate the total area under the curve. \n",
    "\n",
    "The accuracy of this approximation is increased by partitioning the area under the curve more finely. For example, the figure below shows the effect of dividing the area under the red curve into 10, 20, 40, and 80 rectangular regions (grey)."
   ]
  },
  {
   "cell_type": "markdown",
   "metadata": {},
   "source": [
    "<img src=\"./STUFF/NumIntRegions.pdf\" width=\"700\">"
   ]
  },
  {
   "cell_type": "markdown",
   "metadata": {},
   "source": [
    "### How will our numerical integration algorithm work?\n",
    "From the background information presented above, you will hopefully already have some ideas about how to write code capable of numerically integrating a mathematical function. As with all coding, there are several ways we can achieve this. \n",
    "\n",
    "To begin with we shall keep things as simple as possible, and divide our integration region into a series of $N$ rectangles, all of which are of equal width (which we shall call $h$). Further, the rectangles will make contact with the curve on their left-hand side (the so-called left Riemann sum), as illustrated in the above diagram. We can break our integration code down into a series of steps\n",
    "\n",
    "1. Define our mathematical function $f(x)$  using Python\n",
    "2. Partition the integration region into $N$ pieces, each of width $h$ <img src=\"./STUFF/NumIntAlgorithm_Step2.pdf\" width=\"350\">\n",
    "3. Evaluate $f(a)$ (*e.g.* $f(x)$ evaluated at $x=a$) and calculate the area of the first rectangle - $Area(1)=f(a)\\cdot h$ <img src=\"./STUFF/NumIntAlgorithm_Step3.pdf\" width=\"350\">\n",
    "4. Evaluate $f(a+h)$ and calculate the area of the second rectangle - $Area(2)=f(a+h)\\cdot h$ <img src=\"./STUFF/NumIntAlgorithm_Step4.pdf\" width=\"350\">\n",
    "5. Keep moving along the $x$-axis until the area of all $N$ rectangles have been calculated <img src=\"./STUFF/NumIntAlgorithm_Step5.pdf\" width=\"350\">\n",
    "6. Cacluate the total area:\n",
    "\n",
    "$$\\textrm{Total Area}=\\sum_{n=1}^{N}\\textrm{Area}(n)\\approx\\int_{a}^{b}f(x)\\,\\mathrm{d}x$$\n",
    "\n",
    "\n"
   ]
  },
  {
   "cell_type": "markdown",
   "metadata": {},
   "source": [
    "### Putting it into practice\n",
    "As an example problem, we shall use Python to numerically evaluate the following integral:\n",
    "\n",
    "$$\\int_{-1.5}^{2}\\left(x^{4}-3x^{2}\\right)\\,\\textrm{d}x$$\n",
    "\n",
    "That is, find the area of the grey shaded region in the plot below:\n",
    "<img src=\"./STUFF/IntegralFunc.pdf\" width=\"600\">\n",
    "    \n",
    "If our code works correctly, it should return an answer close to the analytical (<i>i.e.</i> exact) value of -3.45625. \n",
    "\n",
    "### Step 1: Define the mathematical function in Python"
   ]
  },
  {
   "cell_type": "markdown",
   "metadata": {},
   "source": [
    "<div class=warn>\n",
    "\n",
    "### <font>Task 3:</font>\n",
    "Write a Python function ``OurFunc(x)``, which when provided with a value for $x$ returns $f(x)= x^{4}-3x^{2}$. If you are unsure how to do this, look at how the function ``x_pwr4()`` was defined in section 1.\n",
    "\n",
    "Test your code using $x=0.5$, which should return a value of $f(0.5)=-0.6875$"
   ]
  },
  {
   "cell_type": "code",
   "execution_count": null,
   "metadata": {},
   "outputs": [],
   "source": [
    "#TASK 3 ANSWER:\n"
   ]
  },
  {
   "cell_type": "markdown",
   "metadata": {},
   "source": [
    "### Step 2: Partition the integration region into $N$ pieces, each of width $h$\n",
    "To make our code as flexible as possible, we are going to allow the user to define the limits of the integration region ($a$ and $b$) and the number of rectangles used to approximate the integral. Using these three values as inputs, the width of each rectangle, $h$, can be calculated as:\n",
    "$$h=\\frac{b-a}{N}$$"
   ]
  },
  {
   "cell_type": "markdown",
   "metadata": {},
   "source": [
    "<div class=warn>\n",
    "\n",
    "### <font>Task 4:</font>\n",
    "Write a Python function ``Partition(a,b,N)``, which will divide the region between $a$ and $b$ into $N$ equal width sections, and return the width $h$ of each section\n",
    "\n",
    "Test your code using $a=-5$, $b=-2$, and $N=8$ which should return a value of $h=0.375$  (*i.e.* when you type ``Partition(-5, -2, 8)`` into a code cell, it will output a value of 0.375) "
   ]
  },
  {
   "cell_type": "code",
   "execution_count": null,
   "metadata": {},
   "outputs": [],
   "source": [
    "#TASK 4 ANSWER:\n"
   ]
  },
  {
   "cell_type": "markdown",
   "metadata": {},
   "source": [
    "### Steps 3-5: Calculate and store the areas of the rectangles - the tedious way!\n",
    "The easiest way to do this is to explicitly calculate the area of each rectangle in turn. For instance, we could run the following code...\n",
    "```python\n",
    "#Define the integration limits (a & b) and the number of partitions N\n",
    "a=-1.5\n",
    "b=2\n",
    "N=5\n",
    "\n",
    "#Divide the integration region into 5 regions between -1.5 and 2, and calculate the width of each section\n",
    "h=Partition(a, b, N)\n",
    "\n",
    "#Area of rectangle 1 = f(a)*h\n",
    "Area1=OurFunc(a)*h\n",
    "\n",
    "#Area of rectangle 2 = f(a+h)*h\n",
    "Area2=OurFunc(a+h)*h\n",
    "\n",
    "#Area of rectangle 3 = f(a+2h)*h\n",
    "Area3=OurFunc(a+2*h)*h\n",
    "\n",
    "#Area of rectangle 4 = f(a+3h)*h\n",
    "Area4=OurFunc(a+3*h)*h\n",
    "\n",
    "#Area of rectangle 5 = f(a+4h)*h\n",
    "Area5=OurFunc(a+4*h)*h\n",
    "\n",
    "#Sum the rectangle areas to yield the total area\n",
    "TotalArea=Area1+Area2+Area3+Area4+Area5\n",
    "\n",
    "print(TotalArea)\n",
    "```\n",
    "Provided your ``OurFunc(x)`` and ``Partition(a,b,N)`` functions are defined correctly, this approach will work. Unfortunately the answer returned will be  hugely inaccurate (the above code returns a value of -4.47446... for our integral - run it in a code cell to see for yourself). This is because the accuracy of the numerical integration method increases as the value of $N$ becomes larger. \n",
    "\n",
    "### Steps 3-5: Calculate and store the areas of the rectangles - the lazy persons way!\n",
    "While we could simply extend the above method to use more regions, and hence obtain a more accurate result, it makes more sense to use a loop and automate things (really, the whole point of coding is to automate tedious/complicated things). Our task, therefore, is to take what we have done above and turn it into a loop.\n",
    "\n",
    "In the above code, we see that we repeatedly make use of the ``OurFunc(x)`` function, each time calling it with a different value for $x$, therefore we need to write a loop which will automatically increase $x$ by the value of $h$ on each pass, and then calculate and store the area of each rectangle.   "
   ]
  },
  {
   "cell_type": "markdown",
   "metadata": {},
   "source": [
    "<div class=warn>\n",
    "\n",
    "### <font>Task 5:</font>\n",
    "<u>The code below is currently incomplete</u>. Finish the loop structure to make it work. Don't forget to include the range you want to run the loop over, and finish the return statement so as to output the total area. \n",
    "\n",
    "<b>(i)</b> Check your code by calling ``Integrate(-1.5, 2, 5)`` which will return a value of -4.47446... if it is working correctly.  \n",
    "\n",
    "<b>(ii)</b> Calculate the value of the numerical integral when the area under the curve is divided into 5000 regions\n",
    "\n",
    "<b>Useful commands</b>:\n",
    "\n",
    "<code>arrayName[i]=someValue</code> - stores the value ``someValue`` (can be a number or a string) in the array ``arrayName`` at position ``i`` \n",
    "    \n",
    "<code>np.sum(arrayName)</code> - returns the sum of all elements of the array ``arrayname``\n"
   ]
  },
  {
   "cell_type": "code",
   "execution_count": null,
   "metadata": {},
   "outputs": [],
   "source": [
    "#TASK 5 ANSWER:\n",
    "#Finish the loop in the code below\n",
    "\n",
    "def Integrate(a,b,N):\n",
    "    #Calculate the width of each rectangle\n",
    "    h=Partition(a,b,N)\n",
    "    \n",
    "    #prepare a numpy array of length N for storage of individual rectangle areas - each element initially \n",
    "    #has a value of 0, which needs to be replaced by the calculated areas using area[i]=calculatedValue\n",
    "    area=np.zeros(N)\n",
    "    \n",
    "    #Calulates the area of each of the N rectangles, and stores them in the pre-prepared array - COMPLETE THIS BIT\n",
    "    for i in range():\n",
    "       \n",
    "    return \n"
   ]
  },
  {
   "cell_type": "markdown",
   "metadata": {},
   "source": [
    "### How can we improve our algorithm?\n",
    "The algorithm we have just written is by no means the only way we can numerically integrate functions. While it has the advantage of being very simple, our algorithm requires that we partition our integration regions into a large number of regions in order to produce an accurate result (in the current problem, <i>ca.</i> 3000 regions are needed before the answer in within 0.1% of the true value). There are several other algorithms we could use, and many of these converge far more rapidly - <i>i.e.</i> they don't require the integration region to be divided into as many regions to return an accurate value.\n",
    "\n",
    "Three examples of enhanced numerical integration algorithms are the [midpoint rule](https://en.wikipedia.org/wiki/Riemann_sum#Midpoint_rule), [Trapezoidal rule](https://en.wikipedia.org/wiki/Trapezoidal_rule), and [Simpson's rule](https://en.wikipedia.org/wiki/Simpson%27s_rule). As can be seen in the plot below, for our problem they all converge on the correct answer far more rapidly than the left Reimann sum. The numerical integration code we wrote above can be easily adapted to perform a midpoint rule or trapezoidal rule integration, and implementation of Simpson's rule is only slightly more challenging.\n",
    "\n",
    "<img src=\"./STUFF/NumIntMethodComparison.pdf\" width=\"800\">"
   ]
  },
  {
   "cell_type": "markdown",
   "metadata": {},
   "source": [
    "<div class=warn>\n",
    "\n",
    "### <font>Homework task 1</font>\n",
    "Adapt the numerical integration code to perform midpoint rule integration and trapezoid rule integration of our function.\n",
    "\n",
    "As an extra challenge, see if you can write code capable of performing a Simpson's rule integration.\n",
    "\n",
    "<b>Note</b>: N must be even for Simson's rule to work\n",
    "\n",
    "### Code checking\n",
    "If your codes are correct, setting ``a=-1.5``, ``b=2``, and ``N=32`` should produce the following values:</p>\n",
    "Midpoint rule: -3.46844...<br>\n",
    "Trapezoidal rule: -3.43184... <br>\n",
    "Simpson's rule: -3.45618...</p>"
   ]
  },
  {
   "cell_type": "markdown",
   "metadata": {},
   "source": [
    "## 3. Solving Differential Equations Numerically\n",
    "The final numerical approximation method we shall discuss is the forward Euler method for solving differential equations. This was first reported in 1768 by [Leonhard Euler](https://en.wikipedia.org/wiki/Leonhard_Euler) and is the simplest numerical method for solving first-order differential equations (<i>i.e.</i> we don't ever need to calculate the analytical solution) with given intitial values.\n",
    "\n",
    "### The theory\n",
    "A general first-order differential equation can be written in the form:\n",
    "    $$\\frac{\\mathrm{d}y}{\\mathrm{d}x}=f(x,y)$$\n",
    "    \n",
    "There are an infinite number of solutions to this differential equation depending upon the initial values of $x$ and $y$. In order to determine a <i>specific solution</i>, we also need to specify these <i>initial values</i>:\n",
    "    $$y(x_{0})=y_{0}$$\n",
    "\n",
    "Once we have these initial values ($x_{0},\\,y_{0}$), we can use an iterative procedure to generate all subsequent ($x_{n},\\,y_{n}$) pairs:\n",
    "   $$\\begin{align*}\n",
    "            x_{n+1}&=x_{n}+h\\\\\n",
    "            y_{n+1}&=y_{n}+hf(x_{n},y_{n})\n",
    "       \\end{align*}$$\n",
    "       \n",
    "where, as with the numerical differentiation and integration examples above, the parameter $h$ is a user-defined step size which plays a crucial role in the overall accuracy of the method. \n",
    "\n",
    "The [derivation of this result](http://calculuslab.deltacollege.edu/ODE/7-C-1/7-C-1-h-a.html) isn't terribly important to us, but is fairly easy to understand and well worth looking at when you have the time.\n",
    "### The algorithm\n",
    "We are going to use the forward Euler method to investigate the time-dependent concentrations of molecular species in a typical first-order kinetic scheme:\n",
    "$$A\\xrightarrow{k} B$$\n",
    "\n",
    "where $A$ and $B$ are the reactant and product, respectively, and $k$ is the first-order rate coefficient.\n",
    "\n",
    "Assuming the initial population of species $B$ is zero initially, the two differential equations describing the evolution of $[A]$ and $[B]$ are:\n",
    "    $$\\begin{align*}\n",
    "        \\frac{\\mathrm{d}[A]}{\\mathrm{d}t}&=-k[A]\\\\[6pt]\n",
    "        \\frac{\\mathrm{d}[B]}{\\mathrm{d}t}&=k[A]\n",
    "    \\end{align*}$$\n",
    "    \n",
    "Which have analytical solutions:\n",
    "    $$\\begin{align*}\n",
    "        [A]_{t}&=[A]_{0}e^{-kt}\\\\[6pt]\n",
    "        [B]_{t}&=[A]_{0}\\left(1-e^{-kt}\\right)\n",
    "        \\end{align*}$$ \n",
    "        \n",
    "For our example problem, we shall set $[A]_{0}=5\\textrm{ mol dm}^{-3}$ and $k=0.8\\textrm{ s}^{-1}$, and if everything works correctly, our numerical algorithm should return values for the time dependent concentrations of $[A]$ and $[B]$ which sit on the following curves:\n",
    "<img src=\"./STUFF/TimeDepConc.pdf\" width=\"800\">\n"
   ]
  },
  {
   "cell_type": "markdown",
   "metadata": {},
   "source": [
    "### Step 1: Define the differential equations in python\n",
    "The first step is to define our two differential equations describing the time-dependent populations of $A$ and $B$ using python. For the differential equation modelling the rate of change of $[A]$ with respect to time $\\left(\\frac{\\mathrm{d}[A]}{\\mathrm{d}t}=-k[A]\\right)$, we can write the following function:"
   ]
  },
  {
   "cell_type": "code",
   "execution_count": null,
   "metadata": {},
   "outputs": [],
   "source": [
    "#TIME DEPENDENT CONCENTRATION OF SPECIES A\n",
    "#Note that the populations of A and B only depend upon a single variable ([A]), and not upon the variables [B] or t. \n",
    "#Therefore f(t, [A], [B])=f([A])\n",
    "\n",
    "#d[A]/dt=-k[A]\n",
    "def dA_dt(A):\n",
    "    return -k*A #the value of k will be defined elsewhere in the code"
   ]
  },
  {
   "cell_type": "markdown",
   "metadata": {},
   "source": [
    "<div class=warn>\n",
    "\n",
    "### <font>Task 6:</font>\n",
    "Write a python function ``dB_dt(A)`` describing the differential equation controlling $[B]_{t}$"
   ]
  },
  {
   "cell_type": "code",
   "execution_count": null,
   "metadata": {},
   "outputs": [],
   "source": [
    "#TASK 6 ANSWER:\n"
   ]
  },
  {
   "cell_type": "markdown",
   "metadata": {},
   "source": [
    "### Step 2: Define the initial values, and set up lists for storage of $t$, $[A]_{t}$, and $[B]_{t}$ values\n",
    "Because we are solving these differential equations in an iterative manner, we need to store the returned values of $t$, $[A]_{t}$, and $[B]_{t}$ at each time step. Lists provide us with a convenient method of doing this. \n",
    "\n",
    "We shall begin by creating three lists (``concA``, ``concB``, and ``t_step``), each with a single number. These three numbers define our initial values ($[A]_{0}=5$, $[B]_{0}=$, and $t_{0}=0$):"
   ]
  },
  {
   "cell_type": "code",
   "execution_count": null,
   "metadata": {},
   "outputs": [],
   "source": [
    "#INITIALISE LISTS FOR STORAGE OF t, [A]_t, [B]_t - NOTE: THIS MUST BE RUN EACH TIME!\n",
    "concA=[5]\n",
    "concB=[0]\n",
    "t_step=[0]"
   ]
  },
  {
   "cell_type": "markdown",
   "metadata": {},
   "source": [
    "Every iteration of our code will generate new values for $t$, $[A]$, and $[B]$, therefore we will need to add these values to the ends of their respective lists. This can be achieved using the code:\n",
    "```python\n",
    "listName.append(value)\n",
    "```\n",
    "where 'listName' is the name of your list (<i>i.e.</i> t_step, concA, or concB), and 'value' is the number you are adding to the end.\n",
    "\n",
    "### Step 3: Iterate through the algorithm and store the values - the tedious way!\n",
    "Using the forward Euler algorithm outlined above, we can calculate and store the second set of $t$ and $[X]$ values:\n",
    "\n",
    "#### (i) $t$\n",
    "The value of $t$ is increased by our chosen step size $h$ (<i>i.e.</i>, $t\\rightarrow t+h$). Our initial value for $t$ is stored as the first element of the list 't_step' (<i>i.e.</i>,``t_step[0]``), therefore we create and store the second value for $t$ using\n",
    "```python\n",
    "t_step.append(t_step[0]+h)\n",
    "```\n",
    "\n",
    "#### (ii) $[A]$\n",
    "The forward Euler algorithm tells us that\n",
    "    $$[A]_{n+1}=[A]_{n}+h\\cdot f(t_{n},[A]_{n})$$\n",
    "\n",
    "where the value of $f(t,[A])=-k[A]$ has previously been defined using the function ``dA_dt(A)``. Therefore the second value for $[A]_{t}$ is created and stored using\n",
    "```python\n",
    "concA.append(concA[0]+h*dA_dt(concA[0]))\n",
    "```\n",
    "\n",
    "#### (iii) $[B]$\n",
    "Similarly, the second value for $[B]_{t}$ is calculated and stored using the code\n",
    "```python\n",
    "concB.append(concB[0]+h*dB_dt(concA[0]))\n",
    "```\n",
    "\n",
    "We could calculate each iteration of the Euler algorithm this way using code such as that below (where we have chosen a step size of $h=1\\textrm{ s}$):\n",
    "```python\n",
    "#Define the value of the rate coefficient (k), and the step size (h)\n",
    "k=0.8 #units = s^-1\n",
    "h=1.0 #units = s\n",
    "\n",
    "#First iteration: t=1.0 s\n",
    "t_step.append(t_step[0]+h)\n",
    "concA.append(concA[0]+h*dA_dt(concA[0]))\n",
    "concB.append(concB[0]+h*dB_dt(concA[0]))\n",
    "\n",
    "#Second iteration: t=2.0 s\n",
    "t_step.append(t_step[1]+h)\n",
    "concA.append(concA[1]+h*dA_dt(concA[1]))\n",
    "concB.append(concB[1]+h*dB_dt(concA[1]))\n",
    "\n",
    "#Third iteration: t=3.0 s\n",
    "t_step.append(t_step[2]+h)\n",
    "concA.append(concA[2]+h*dA_dt(concA[2]))\n",
    "concB.append(concB[2]+h*dB_dt(concA[2]))\n",
    "\n",
    "#Fourth iteration: t=4.0 s\n",
    "t_step.append(t_step[3]+h)\n",
    "concA.append(concA[3]+h*dA_dt(concA[3]))\n",
    "concB.append(concB[3]+h*dB_dt(concA[3]))\n",
    "\n",
    "#Final iteration: t=5.0 s\n",
    "t_step.append(t_step[4]+h)\n",
    "concA.append(concA[4]+h*dA_dt(concA[4]))\n",
    "concB.append(concB[4]+h*dB_dt(concA[4]))\n",
    "\n",
    "```\n",
    "The results from this code are plotted below (as points) and compared to the true analytical solutions (lines) \n",
    "<img src=\"./STUFF/EulerLargeStep.pdf\" width=\"800\">"
   ]
  },
  {
   "cell_type": "markdown",
   "metadata": {},
   "source": [
    "### Step 3: Iterate through the algorithm and store the values - the lazy persons way!\n",
    "Loops, the answer is loops.\n",
    "\n",
    "As with all the numerical methods covered in this workshop, the choice of step size is critical to the accuracy of the approach. The choice of $h=1$s made above is too large to get satisfactory results, so we need to reduce it. Rather than calculate each iteration by hand, we should also include a loop in our code."
   ]
  },
  {
   "cell_type": "markdown",
   "metadata": {},
   "source": [
    "<div class=warn>\n",
    "\n",
    "### <font>Task 7:</font>\n",
    "Use the forward Euler algorithm to numerically model our system over the time range $0\\textrm{ s}\\leq t \\leq5\\textrm{ s}$ using a step size of $h=0.05$s in the code cell below. \n",
    "\n",
    "Plot the results, and compare them to the analytical solutions. If your code works correctly, your plot should look like:\n",
    "<img src=\"./STUFF/EulerTask.pdf\" width=\"600\">"
   ]
  },
  {
   "cell_type": "code",
   "execution_count": null,
   "metadata": {},
   "outputs": [],
   "source": [
    "#TASK 7 ANSWER:\n",
    "#REINITIALISE LISTS FOR STORAGE OF t, [A]_t, [B]_t - NOTE: THIS MUST BE RUN EACH TIME!\n",
    "concA=[5]\n",
    "concB=[0]\n",
    "t_step=[0]\n",
    "\n",
    "k=0.8 #units = s^-1"
   ]
  },
  {
   "cell_type": "markdown",
   "metadata": {},
   "source": [
    "<div class=warn>\n",
    "\n",
    "### <font>Homework task 2:</font>\n",
    "Use the forward Euler algorithm to model the follwing kinetic scheme:\n",
    "$$A\\xrightarrow{k_{1}} B\\xrightarrow{k_{2}}C$$\n",
    "\n",
    "Assuming the initial populations of species $B$ and $C$ are zero initially, the three differential equations describing $[A]_{t}$, $[B]_{t}$, and $[C]_{t}$ are:\n",
    "    $$\\begin{align*}\n",
    "        \\frac{\\mathrm{d}[A]}{\\mathrm{d}t}&=-k_{1}[A]\\\\[6pt]\n",
    "        \\frac{\\mathrm{d}[B]}{\\mathrm{d}t}&=k_{1}[A]-k_{2}[B]\\\\[6pt]\n",
    "        \\frac{\\mathrm{d}[C]}{\\mathrm{d}t}&=k_{2}[B]\n",
    "    \\end{align*}$$\n",
    "\n",
    "Plot the time-dependent concentrations of $[A]$, $[B]$, and $[C]$ over the time range $0\\textrm{ ns}\\leq t \\leq10\\textrm{ ns}$, using the following parameters:\n",
    "* $[A]_{0}=2\\textrm{ mol dm}^{-3}$; $[B]_{0}=[C]_{0}=0\\textrm{ mol dm}^{-3}$\n",
    "* $k_{1}=3.0 \\textrm{ ns}^{-1}$\n",
    "* $k_{2}=0.4 \\textrm{ ns}^{-1}$\n",
    "* $h=0.1\\textrm{ ns}$\n",
    "\n",
    "Compare your results to the analytical solutions: \n",
    "    $$\\begin{align*}\n",
    "        [A]_{t}&=[A]_{0}e^{-k_{1}t}\\\\[6pt]\n",
    "        [B]_{t}&=[A]_{0}\\frac{k_{1}}{k_{2}-k_{1}}\\left(e^{-k_{1}t}-e^{-k_{2}t}\\right)\\\\[6pt]\n",
    "        [C]_{t}&=[A]_{0}\\left(1+\\frac{k_{1}e^{-k_{2}t}-k_{2}e^{-k_{1}t}}{k_{2}-k_{1}}\\right)\n",
    "        \\end{align*}$$ \n",
    "        "
   ]
  },
  {
   "cell_type": "code",
   "execution_count": null,
   "metadata": {},
   "outputs": [],
   "source": []
  }
 ],
 "metadata": {
  "kernelspec": {
   "display_name": "Python 3",
   "language": "python",
   "name": "python3"
  },
  "language_info": {
   "codemirror_mode": {
    "name": "ipython",
    "version": 3
   },
   "file_extension": ".py",
   "mimetype": "text/x-python",
   "name": "python",
   "nbconvert_exporter": "python",
   "pygments_lexer": "ipython3",
   "version": "3.6.9"
  }
 },
 "nbformat": 4,
 "nbformat_minor": 4
}
